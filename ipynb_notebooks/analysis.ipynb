{
 "cells": [
  {
   "cell_type": "markdown",
   "metadata": {},
   "source": [
    "## joining both the dataset both the datasets"
   ]
  },
  {
   "cell_type": "code",
   "execution_count": 1,
   "metadata": {},
   "outputs": [],
   "source": [
    "import pandas as pd\n",
    "import numpy as np\n"
   ]
  },
  {
   "cell_type": "code",
   "execution_count": 2,
   "metadata": {},
   "outputs": [],
   "source": [
    "data1_path = '/home/theghost001/Pictures/practice_with_H/data/null_value_imputed_data1.csv'\n",
    "data2_path = '/home/theghost001/Pictures/practice_with_H/data/null_value_imputed_data2.csv'\n",
    "\n",
    "data1 = pd.read_csv(data1_path)\n",
    "data2 = pd.read_csv(data2_path)"
   ]
  },
  {
   "cell_type": "code",
   "execution_count": 4,
   "metadata": {},
   "outputs": [
    {
     "data": {
      "text/plain": [
       "Index(['CustomerID', 'DateOfBirth(age)', 'ProdTaken', 'Age', 'TypeofContact',\n",
       "       'CityTier', 'DurationOfPitch', 'Occupation', 'Totalvisiting',\n",
       "       'DateofBirth', 'Date(birth)', 'Month(birth)', 'Year(birth)',\n",
       "       'TypeofContact(Allias)'],\n",
       "      dtype='object')"
      ]
     },
     "execution_count": 4,
     "metadata": {},
     "output_type": "execute_result"
    }
   ],
   "source": [
    "data1.columns"
   ]
  },
  {
   "cell_type": "code",
   "execution_count": 5,
   "metadata": {},
   "outputs": [
    {
     "data": {
      "text/plain": [
       "Index(['CustomerID', 'NumberOfFollowups', 'ProductPitched',\n",
       "       'PreferredPropertyStar', 'MaritalStatus', 'NumberOfTrips', 'Passport',\n",
       "       'PitchSatisfactionScore', 'OwnCar', 'Designation', 'MonthlyIncome',\n",
       "       'Gender', 'MaritalStatus(Allias)'],\n",
       "      dtype='object')"
      ]
     },
     "execution_count": 5,
     "metadata": {},
     "output_type": "execute_result"
    }
   ],
   "source": [
    "data2.columns"
   ]
  },
  {
   "cell_type": "code",
   "execution_count": 7,
   "metadata": {},
   "outputs": [],
   "source": [
    "combined_data = pd.merge(data1, data2, on='CustomerID', how='inner')"
   ]
  },
  {
   "cell_type": "code",
   "execution_count": 8,
   "metadata": {},
   "outputs": [
    {
     "data": {
      "text/plain": [
       "Index(['CustomerID', 'DateOfBirth(age)', 'ProdTaken', 'Age', 'TypeofContact',\n",
       "       'CityTier', 'DurationOfPitch', 'Occupation', 'Totalvisiting',\n",
       "       'DateofBirth', 'Date(birth)', 'Month(birth)', 'Year(birth)',\n",
       "       'TypeofContact(Allias)', 'NumberOfFollowups', 'ProductPitched',\n",
       "       'PreferredPropertyStar', 'MaritalStatus', 'NumberOfTrips', 'Passport',\n",
       "       'PitchSatisfactionScore', 'OwnCar', 'Designation', 'MonthlyIncome',\n",
       "       'Gender', 'MaritalStatus(Allias)'],\n",
       "      dtype='object')"
      ]
     },
     "execution_count": 8,
     "metadata": {},
     "output_type": "execute_result"
    }
   ],
   "source": [
    "combined_data.columns"
   ]
  },
  {
   "cell_type": "code",
   "execution_count": 9,
   "metadata": {},
   "outputs": [
    {
     "data": {
      "text/html": [
       "<div>\n",
       "<style scoped>\n",
       "    .dataframe tbody tr th:only-of-type {\n",
       "        vertical-align: middle;\n",
       "    }\n",
       "\n",
       "    .dataframe tbody tr th {\n",
       "        vertical-align: top;\n",
       "    }\n",
       "\n",
       "    .dataframe thead th {\n",
       "        text-align: right;\n",
       "    }\n",
       "</style>\n",
       "<table border=\"1\" class=\"dataframe\">\n",
       "  <thead>\n",
       "    <tr style=\"text-align: right;\">\n",
       "      <th></th>\n",
       "      <th>CustomerID</th>\n",
       "      <th>ProdTaken</th>\n",
       "      <th>Age</th>\n",
       "      <th>CityTier</th>\n",
       "      <th>DurationOfPitch</th>\n",
       "      <th>Totalvisiting</th>\n",
       "      <th>Date(birth)</th>\n",
       "      <th>Month(birth)</th>\n",
       "      <th>Year(birth)</th>\n",
       "      <th>NumberOfFollowups</th>\n",
       "      <th>PreferredPropertyStar</th>\n",
       "      <th>NumberOfTrips</th>\n",
       "      <th>Passport</th>\n",
       "      <th>PitchSatisfactionScore</th>\n",
       "      <th>OwnCar</th>\n",
       "      <th>MonthlyIncome</th>\n",
       "    </tr>\n",
       "  </thead>\n",
       "  <tbody>\n",
       "    <tr>\n",
       "      <th>count</th>\n",
       "      <td>4888.000000</td>\n",
       "      <td>4888.000000</td>\n",
       "      <td>4888.000000</td>\n",
       "      <td>4888.000000</td>\n",
       "      <td>4888.000000</td>\n",
       "      <td>4888.000000</td>\n",
       "      <td>4888.000000</td>\n",
       "      <td>4888.000000</td>\n",
       "      <td>4888.000000</td>\n",
       "      <td>4888.000000</td>\n",
       "      <td>4888.000000</td>\n",
       "      <td>4888.000000</td>\n",
       "      <td>4888.000000</td>\n",
       "      <td>4888.000000</td>\n",
       "      <td>4888.000000</td>\n",
       "      <td>4888.000000</td>\n",
       "    </tr>\n",
       "    <tr>\n",
       "      <th>mean</th>\n",
       "      <td>202443.500000</td>\n",
       "      <td>0.188216</td>\n",
       "      <td>37.547259</td>\n",
       "      <td>1.654255</td>\n",
       "      <td>15.362930</td>\n",
       "      <td>4.089812</td>\n",
       "      <td>15.630319</td>\n",
       "      <td>6.502864</td>\n",
       "      <td>2012.504092</td>\n",
       "      <td>3.711129</td>\n",
       "      <td>3.577946</td>\n",
       "      <td>3.229746</td>\n",
       "      <td>0.290917</td>\n",
       "      <td>3.078151</td>\n",
       "      <td>0.620295</td>\n",
       "      <td>23559.179419</td>\n",
       "    </tr>\n",
       "    <tr>\n",
       "      <th>std</th>\n",
       "      <td>1411.188388</td>\n",
       "      <td>0.390925</td>\n",
       "      <td>9.104795</td>\n",
       "      <td>0.916583</td>\n",
       "      <td>8.316166</td>\n",
       "      <td>1.414617</td>\n",
       "      <td>8.833463</td>\n",
       "      <td>3.449301</td>\n",
       "      <td>1.701714</td>\n",
       "      <td>0.998271</td>\n",
       "      <td>0.797005</td>\n",
       "      <td>1.822769</td>\n",
       "      <td>0.454232</td>\n",
       "      <td>1.365792</td>\n",
       "      <td>0.485363</td>\n",
       "      <td>5257.862921</td>\n",
       "    </tr>\n",
       "    <tr>\n",
       "      <th>min</th>\n",
       "      <td>200000.000000</td>\n",
       "      <td>0.000000</td>\n",
       "      <td>18.000000</td>\n",
       "      <td>1.000000</td>\n",
       "      <td>5.000000</td>\n",
       "      <td>1.000000</td>\n",
       "      <td>1.000000</td>\n",
       "      <td>1.000000</td>\n",
       "      <td>2010.000000</td>\n",
       "      <td>1.000000</td>\n",
       "      <td>3.000000</td>\n",
       "      <td>1.000000</td>\n",
       "      <td>0.000000</td>\n",
       "      <td>1.000000</td>\n",
       "      <td>0.000000</td>\n",
       "      <td>1000.000000</td>\n",
       "    </tr>\n",
       "    <tr>\n",
       "      <th>25%</th>\n",
       "      <td>201221.750000</td>\n",
       "      <td>0.000000</td>\n",
       "      <td>31.000000</td>\n",
       "      <td>1.000000</td>\n",
       "      <td>9.000000</td>\n",
       "      <td>3.000000</td>\n",
       "      <td>8.000000</td>\n",
       "      <td>4.000000</td>\n",
       "      <td>2011.000000</td>\n",
       "      <td>3.000000</td>\n",
       "      <td>3.000000</td>\n",
       "      <td>2.000000</td>\n",
       "      <td>0.000000</td>\n",
       "      <td>2.000000</td>\n",
       "      <td>0.000000</td>\n",
       "      <td>20485.000000</td>\n",
       "    </tr>\n",
       "    <tr>\n",
       "      <th>50%</th>\n",
       "      <td>202443.500000</td>\n",
       "      <td>0.000000</td>\n",
       "      <td>36.000000</td>\n",
       "      <td>1.000000</td>\n",
       "      <td>13.000000</td>\n",
       "      <td>4.000000</td>\n",
       "      <td>16.000000</td>\n",
       "      <td>7.000000</td>\n",
       "      <td>2013.000000</td>\n",
       "      <td>4.000000</td>\n",
       "      <td>3.000000</td>\n",
       "      <td>3.000000</td>\n",
       "      <td>0.000000</td>\n",
       "      <td>3.000000</td>\n",
       "      <td>1.000000</td>\n",
       "      <td>22347.000000</td>\n",
       "    </tr>\n",
       "    <tr>\n",
       "      <th>75%</th>\n",
       "      <td>203665.250000</td>\n",
       "      <td>0.000000</td>\n",
       "      <td>43.000000</td>\n",
       "      <td>3.000000</td>\n",
       "      <td>19.000000</td>\n",
       "      <td>5.000000</td>\n",
       "      <td>23.000000</td>\n",
       "      <td>10.000000</td>\n",
       "      <td>2014.000000</td>\n",
       "      <td>4.000000</td>\n",
       "      <td>4.000000</td>\n",
       "      <td>4.000000</td>\n",
       "      <td>1.000000</td>\n",
       "      <td>4.000000</td>\n",
       "      <td>1.000000</td>\n",
       "      <td>25424.750000</td>\n",
       "    </tr>\n",
       "    <tr>\n",
       "      <th>max</th>\n",
       "      <td>204887.000000</td>\n",
       "      <td>1.000000</td>\n",
       "      <td>61.000000</td>\n",
       "      <td>3.000000</td>\n",
       "      <td>127.000000</td>\n",
       "      <td>7.000000</td>\n",
       "      <td>31.000000</td>\n",
       "      <td>12.000000</td>\n",
       "      <td>2015.000000</td>\n",
       "      <td>6.000000</td>\n",
       "      <td>5.000000</td>\n",
       "      <td>22.000000</td>\n",
       "      <td>1.000000</td>\n",
       "      <td>5.000000</td>\n",
       "      <td>1.000000</td>\n",
       "      <td>98678.000000</td>\n",
       "    </tr>\n",
       "  </tbody>\n",
       "</table>\n",
       "</div>"
      ],
      "text/plain": [
       "          CustomerID    ProdTaken          Age     CityTier  DurationOfPitch  \\\n",
       "count    4888.000000  4888.000000  4888.000000  4888.000000      4888.000000   \n",
       "mean   202443.500000     0.188216    37.547259     1.654255        15.362930   \n",
       "std      1411.188388     0.390925     9.104795     0.916583         8.316166   \n",
       "min    200000.000000     0.000000    18.000000     1.000000         5.000000   \n",
       "25%    201221.750000     0.000000    31.000000     1.000000         9.000000   \n",
       "50%    202443.500000     0.000000    36.000000     1.000000        13.000000   \n",
       "75%    203665.250000     0.000000    43.000000     3.000000        19.000000   \n",
       "max    204887.000000     1.000000    61.000000     3.000000       127.000000   \n",
       "\n",
       "       Totalvisiting  Date(birth)  Month(birth)  Year(birth)  \\\n",
       "count    4888.000000  4888.000000   4888.000000  4888.000000   \n",
       "mean        4.089812    15.630319      6.502864  2012.504092   \n",
       "std         1.414617     8.833463      3.449301     1.701714   \n",
       "min         1.000000     1.000000      1.000000  2010.000000   \n",
       "25%         3.000000     8.000000      4.000000  2011.000000   \n",
       "50%         4.000000    16.000000      7.000000  2013.000000   \n",
       "75%         5.000000    23.000000     10.000000  2014.000000   \n",
       "max         7.000000    31.000000     12.000000  2015.000000   \n",
       "\n",
       "       NumberOfFollowups  PreferredPropertyStar  NumberOfTrips     Passport  \\\n",
       "count        4888.000000            4888.000000    4888.000000  4888.000000   \n",
       "mean            3.711129               3.577946       3.229746     0.290917   \n",
       "std             0.998271               0.797005       1.822769     0.454232   \n",
       "min             1.000000               3.000000       1.000000     0.000000   \n",
       "25%             3.000000               3.000000       2.000000     0.000000   \n",
       "50%             4.000000               3.000000       3.000000     0.000000   \n",
       "75%             4.000000               4.000000       4.000000     1.000000   \n",
       "max             6.000000               5.000000      22.000000     1.000000   \n",
       "\n",
       "       PitchSatisfactionScore       OwnCar  MonthlyIncome  \n",
       "count             4888.000000  4888.000000    4888.000000  \n",
       "mean                 3.078151     0.620295   23559.179419  \n",
       "std                  1.365792     0.485363    5257.862921  \n",
       "min                  1.000000     0.000000    1000.000000  \n",
       "25%                  2.000000     0.000000   20485.000000  \n",
       "50%                  3.000000     1.000000   22347.000000  \n",
       "75%                  4.000000     1.000000   25424.750000  \n",
       "max                  5.000000     1.000000   98678.000000  "
      ]
     },
     "execution_count": 9,
     "metadata": {},
     "output_type": "execute_result"
    }
   ],
   "source": [
    "combined_data.describe()"
   ]
  },
  {
   "cell_type": "code",
   "execution_count": 10,
   "metadata": {},
   "outputs": [],
   "source": [
    "combined_data.to_csv('/home/theghost001/Pictures/practice_with_H/data/combined_data.csv', index=False)"
   ]
  },
  {
   "cell_type": "code",
   "execution_count": 11,
   "metadata": {},
   "outputs": [
    {
     "name": "stdout",
     "output_type": "stream",
     "text": [
      "<class 'pandas.core.frame.DataFrame'>\n",
      "RangeIndex: 4888 entries, 0 to 4887\n",
      "Data columns (total 26 columns):\n",
      " #   Column                  Non-Null Count  Dtype  \n",
      "---  ------                  --------------  -----  \n",
      " 0   CustomerID              4888 non-null   int64  \n",
      " 1   DateOfBirth(age)        4888 non-null   object \n",
      " 2   ProdTaken               4888 non-null   int64  \n",
      " 3   Age                     4888 non-null   float64\n",
      " 4   TypeofContact           4888 non-null   object \n",
      " 5   CityTier                4888 non-null   int64  \n",
      " 6   DurationOfPitch         4888 non-null   float64\n",
      " 7   Occupation              4888 non-null   object \n",
      " 8   Totalvisiting           4888 non-null   float64\n",
      " 9   DateofBirth             4888 non-null   object \n",
      " 10  Date(birth)             4888 non-null   int64  \n",
      " 11  Month(birth)            4888 non-null   int64  \n",
      " 12  Year(birth)             4888 non-null   int64  \n",
      " 13  TypeofContact(Allias)   4888 non-null   object \n",
      " 14  NumberOfFollowups       4888 non-null   float64\n",
      " 15  ProductPitched          4888 non-null   object \n",
      " 16  PreferredPropertyStar   4888 non-null   float64\n",
      " 17  MaritalStatus           4888 non-null   object \n",
      " 18  NumberOfTrips           4888 non-null   float64\n",
      " 19  Passport                4888 non-null   int64  \n",
      " 20  PitchSatisfactionScore  4888 non-null   int64  \n",
      " 21  OwnCar                  4888 non-null   int64  \n",
      " 22  Designation             4888 non-null   object \n",
      " 23  MonthlyIncome           4888 non-null   float64\n",
      " 24  Gender                  4888 non-null   object \n",
      " 25  MaritalStatus(Allias)   4888 non-null   object \n",
      "dtypes: float64(7), int64(9), object(10)\n",
      "memory usage: 993.0+ KB\n"
     ]
    }
   ],
   "source": [
    "combined_data.info()"
   ]
  },
  {
   "cell_type": "code",
   "execution_count": 12,
   "metadata": {},
   "outputs": [
    {
     "data": {
      "text/plain": [
       "np.int64(0)"
      ]
     },
     "execution_count": 12,
     "metadata": {},
     "output_type": "execute_result"
    }
   ],
   "source": [
    "combined_data.duplicated().sum()"
   ]
  },
  {
   "cell_type": "code",
   "execution_count": null,
   "metadata": {},
   "outputs": [],
   "source": []
  },
  {
   "cell_type": "markdown",
   "metadata": {},
   "source": [
    "## 6.Find the ratio of divorce with respect to gender, occupation, age, etc."
   ]
  },
  {
   "cell_type": "code",
   "execution_count": 13,
   "metadata": {},
   "outputs": [
    {
     "data": {
      "text/plain": [
       "MaritalStatus\n",
       "Married      2340\n",
       "Divorced      950\n",
       "Single        916\n",
       "Unmarried     682\n",
       "Name: count, dtype: int64"
      ]
     },
     "execution_count": 13,
     "metadata": {},
     "output_type": "execute_result"
    }
   ],
   "source": [
    "combined_data['MaritalStatus'].value_counts()"
   ]
  },
  {
   "cell_type": "code",
   "execution_count": 17,
   "metadata": {},
   "outputs": [
    {
     "data": {
      "text/plain": [
       "Index(['CustomerID', 'DateOfBirth(age)', 'ProdTaken', 'Age', 'TypeofContact',\n",
       "       'CityTier', 'DurationOfPitch', 'Occupation', 'Totalvisiting',\n",
       "       'DateofBirth', 'Date(birth)', 'Month(birth)', 'Year(birth)',\n",
       "       'TypeofContact(Allias)', 'NumberOfFollowups', 'ProductPitched',\n",
       "       'PreferredPropertyStar', 'MaritalStatus', 'NumberOfTrips', 'Passport',\n",
       "       'PitchSatisfactionScore', 'OwnCar', 'Designation', 'MonthlyIncome',\n",
       "       'Gender', 'MaritalStatus(Allias)'],\n",
       "      dtype='object')"
      ]
     },
     "execution_count": 17,
     "metadata": {},
     "output_type": "execute_result"
    }
   ],
   "source": [
    "combined_data.columns"
   ]
  },
  {
   "cell_type": "code",
   "execution_count": 18,
   "metadata": {},
   "outputs": [
    {
     "data": {
      "text/html": [
       "<div>\n",
       "<style scoped>\n",
       "    .dataframe tbody tr th:only-of-type {\n",
       "        vertical-align: middle;\n",
       "    }\n",
       "\n",
       "    .dataframe tbody tr th {\n",
       "        vertical-align: top;\n",
       "    }\n",
       "\n",
       "    .dataframe thead th {\n",
       "        text-align: right;\n",
       "    }\n",
       "</style>\n",
       "<table border=\"1\" class=\"dataframe\">\n",
       "  <thead>\n",
       "    <tr style=\"text-align: right;\">\n",
       "      <th></th>\n",
       "      <th>CustomerID</th>\n",
       "      <th>DateOfBirth(age)</th>\n",
       "      <th>ProdTaken</th>\n",
       "      <th>Age</th>\n",
       "      <th>TypeofContact</th>\n",
       "      <th>CityTier</th>\n",
       "      <th>DurationOfPitch</th>\n",
       "      <th>Occupation</th>\n",
       "      <th>Totalvisiting</th>\n",
       "      <th>DateofBirth</th>\n",
       "      <th>...</th>\n",
       "      <th>PreferredPropertyStar</th>\n",
       "      <th>MaritalStatus</th>\n",
       "      <th>NumberOfTrips</th>\n",
       "      <th>Passport</th>\n",
       "      <th>PitchSatisfactionScore</th>\n",
       "      <th>OwnCar</th>\n",
       "      <th>Designation</th>\n",
       "      <th>MonthlyIncome</th>\n",
       "      <th>Gender</th>\n",
       "      <th>MaritalStatus(Allias)</th>\n",
       "    </tr>\n",
       "  </thead>\n",
       "  <tbody>\n",
       "    <tr>\n",
       "      <th>0</th>\n",
       "      <td>200000</td>\n",
       "      <td>1984-01</td>\n",
       "      <td>1</td>\n",
       "      <td>41.0</td>\n",
       "      <td>Self Enquiry</td>\n",
       "      <td>3</td>\n",
       "      <td>6.0</td>\n",
       "      <td>Salaried</td>\n",
       "      <td>3.0</td>\n",
       "      <td>2015-04-28</td>\n",
       "      <td>...</td>\n",
       "      <td>3.0</td>\n",
       "      <td>Single</td>\n",
       "      <td>1.0</td>\n",
       "      <td>1</td>\n",
       "      <td>2</td>\n",
       "      <td>1</td>\n",
       "      <td>Manager</td>\n",
       "      <td>20993.0</td>\n",
       "      <td>Female</td>\n",
       "      <td>FS</td>\n",
       "    </tr>\n",
       "    <tr>\n",
       "      <th>1</th>\n",
       "      <td>200001</td>\n",
       "      <td>1976-01</td>\n",
       "      <td>0</td>\n",
       "      <td>49.0</td>\n",
       "      <td>Company Invited</td>\n",
       "      <td>1</td>\n",
       "      <td>14.0</td>\n",
       "      <td>Salaried</td>\n",
       "      <td>5.0</td>\n",
       "      <td>2010-02-19</td>\n",
       "      <td>...</td>\n",
       "      <td>4.0</td>\n",
       "      <td>Divorced</td>\n",
       "      <td>2.0</td>\n",
       "      <td>0</td>\n",
       "      <td>3</td>\n",
       "      <td>1</td>\n",
       "      <td>Manager</td>\n",
       "      <td>20130.0</td>\n",
       "      <td>Male</td>\n",
       "      <td>MD</td>\n",
       "    </tr>\n",
       "    <tr>\n",
       "      <th>2</th>\n",
       "      <td>200002</td>\n",
       "      <td>1988-01</td>\n",
       "      <td>1</td>\n",
       "      <td>37.0</td>\n",
       "      <td>Self Enquiry</td>\n",
       "      <td>1</td>\n",
       "      <td>8.0</td>\n",
       "      <td>Free Lancer</td>\n",
       "      <td>3.0</td>\n",
       "      <td>2013-09-11</td>\n",
       "      <td>...</td>\n",
       "      <td>3.0</td>\n",
       "      <td>Single</td>\n",
       "      <td>7.0</td>\n",
       "      <td>1</td>\n",
       "      <td>3</td>\n",
       "      <td>0</td>\n",
       "      <td>Executive</td>\n",
       "      <td>17090.0</td>\n",
       "      <td>Male</td>\n",
       "      <td>MS</td>\n",
       "    </tr>\n",
       "    <tr>\n",
       "      <th>3</th>\n",
       "      <td>200003</td>\n",
       "      <td>1992-01</td>\n",
       "      <td>0</td>\n",
       "      <td>33.0</td>\n",
       "      <td>Company Invited</td>\n",
       "      <td>1</td>\n",
       "      <td>9.0</td>\n",
       "      <td>Salaried</td>\n",
       "      <td>3.0</td>\n",
       "      <td>2011-11-12</td>\n",
       "      <td>...</td>\n",
       "      <td>3.0</td>\n",
       "      <td>Divorced</td>\n",
       "      <td>2.0</td>\n",
       "      <td>1</td>\n",
       "      <td>5</td>\n",
       "      <td>1</td>\n",
       "      <td>Executive</td>\n",
       "      <td>17909.0</td>\n",
       "      <td>Female</td>\n",
       "      <td>FD</td>\n",
       "    </tr>\n",
       "    <tr>\n",
       "      <th>4</th>\n",
       "      <td>200004</td>\n",
       "      <td>1989-01</td>\n",
       "      <td>0</td>\n",
       "      <td>36.0</td>\n",
       "      <td>Self Enquiry</td>\n",
       "      <td>1</td>\n",
       "      <td>8.0</td>\n",
       "      <td>Small Business</td>\n",
       "      <td>2.0</td>\n",
       "      <td>2014-01-19</td>\n",
       "      <td>...</td>\n",
       "      <td>4.0</td>\n",
       "      <td>Divorced</td>\n",
       "      <td>1.0</td>\n",
       "      <td>0</td>\n",
       "      <td>5</td>\n",
       "      <td>1</td>\n",
       "      <td>Executive</td>\n",
       "      <td>18468.0</td>\n",
       "      <td>Male</td>\n",
       "      <td>MD</td>\n",
       "    </tr>\n",
       "  </tbody>\n",
       "</table>\n",
       "<p>5 rows × 26 columns</p>\n",
       "</div>"
      ],
      "text/plain": [
       "   CustomerID DateOfBirth(age)  ProdTaken   Age    TypeofContact  CityTier  \\\n",
       "0      200000          1984-01          1  41.0     Self Enquiry         3   \n",
       "1      200001          1976-01          0  49.0  Company Invited         1   \n",
       "2      200002          1988-01          1  37.0     Self Enquiry         1   \n",
       "3      200003          1992-01          0  33.0  Company Invited         1   \n",
       "4      200004          1989-01          0  36.0     Self Enquiry         1   \n",
       "\n",
       "   DurationOfPitch      Occupation  Totalvisiting DateofBirth  ...  \\\n",
       "0              6.0        Salaried            3.0  2015-04-28  ...   \n",
       "1             14.0        Salaried            5.0  2010-02-19  ...   \n",
       "2              8.0     Free Lancer            3.0  2013-09-11  ...   \n",
       "3              9.0        Salaried            3.0  2011-11-12  ...   \n",
       "4              8.0  Small Business            2.0  2014-01-19  ...   \n",
       "\n",
       "   PreferredPropertyStar  MaritalStatus  NumberOfTrips Passport  \\\n",
       "0                    3.0         Single            1.0        1   \n",
       "1                    4.0       Divorced            2.0        0   \n",
       "2                    3.0         Single            7.0        1   \n",
       "3                    3.0       Divorced            2.0        1   \n",
       "4                    4.0       Divorced            1.0        0   \n",
       "\n",
       "   PitchSatisfactionScore OwnCar  Designation MonthlyIncome  Gender  \\\n",
       "0                       2      1      Manager       20993.0  Female   \n",
       "1                       3      1      Manager       20130.0    Male   \n",
       "2                       3      0    Executive       17090.0    Male   \n",
       "3                       5      1    Executive       17909.0  Female   \n",
       "4                       5      1    Executive       18468.0    Male   \n",
       "\n",
       "   MaritalStatus(Allias)  \n",
       "0                     FS  \n",
       "1                     MD  \n",
       "2                     MS  \n",
       "3                     FD  \n",
       "4                     MD  \n",
       "\n",
       "[5 rows x 26 columns]"
      ]
     },
     "execution_count": 18,
     "metadata": {},
     "output_type": "execute_result"
    }
   ],
   "source": [
    "combined_data.head()"
   ]
  },
  {
   "cell_type": "markdown",
   "metadata": {},
   "source": [
    "# Divorce ratio by Gender \n",
    "# Divorce ratio by Occupation\n",
    "# Divorce ratio by Age\n",
    "# Divorce by city CityTier\t\n",
    "# Divorce by city PreferredPropertyStar\n",
    "# Divorce by city Year(birth)\n",
    "# Divorce by city NumberOfTrips\n"
   ]
  },
  {
   "cell_type": "code",
   "execution_count": 23,
   "metadata": {},
   "outputs": [
    {
     "data": {
      "text/html": [
       "<div>\n",
       "<style scoped>\n",
       "    .dataframe tbody tr th:only-of-type {\n",
       "        vertical-align: middle;\n",
       "    }\n",
       "\n",
       "    .dataframe tbody tr th {\n",
       "        vertical-align: top;\n",
       "    }\n",
       "\n",
       "    .dataframe thead th {\n",
       "        text-align: right;\n",
       "    }\n",
       "</style>\n",
       "<table border=\"1\" class=\"dataframe\">\n",
       "  <thead>\n",
       "    <tr style=\"text-align: right;\">\n",
       "      <th></th>\n",
       "      <th>CustomerID</th>\n",
       "      <th>DateOfBirth(age)</th>\n",
       "      <th>ProdTaken</th>\n",
       "      <th>Age</th>\n",
       "      <th>TypeofContact</th>\n",
       "      <th>CityTier</th>\n",
       "      <th>DurationOfPitch</th>\n",
       "      <th>Occupation</th>\n",
       "      <th>Totalvisiting</th>\n",
       "      <th>DateofBirth</th>\n",
       "      <th>...</th>\n",
       "      <th>PreferredPropertyStar</th>\n",
       "      <th>MaritalStatus</th>\n",
       "      <th>NumberOfTrips</th>\n",
       "      <th>Passport</th>\n",
       "      <th>PitchSatisfactionScore</th>\n",
       "      <th>OwnCar</th>\n",
       "      <th>Designation</th>\n",
       "      <th>MonthlyIncome</th>\n",
       "      <th>Gender</th>\n",
       "      <th>MaritalStatus(Allias)</th>\n",
       "    </tr>\n",
       "  </thead>\n",
       "  <tbody>\n",
       "    <tr>\n",
       "      <th>134</th>\n",
       "      <td>200134</td>\n",
       "      <td>1999-01</td>\n",
       "      <td>0</td>\n",
       "      <td>26.0</td>\n",
       "      <td>Self Enquiry</td>\n",
       "      <td>2</td>\n",
       "      <td>31.0</td>\n",
       "      <td>Salaried</td>\n",
       "      <td>3.0</td>\n",
       "      <td>2013-12-28</td>\n",
       "      <td>...</td>\n",
       "      <td>3.0</td>\n",
       "      <td>Divorced</td>\n",
       "      <td>2.0</td>\n",
       "      <td>0</td>\n",
       "      <td>4</td>\n",
       "      <td>1</td>\n",
       "      <td>Executive</td>\n",
       "      <td>17942.0</td>\n",
       "      <td>Female</td>\n",
       "      <td>FD</td>\n",
       "    </tr>\n",
       "    <tr>\n",
       "      <th>720</th>\n",
       "      <td>200720</td>\n",
       "      <td>1995-01</td>\n",
       "      <td>1</td>\n",
       "      <td>30.0</td>\n",
       "      <td>Self Enquiry</td>\n",
       "      <td>1</td>\n",
       "      <td>28.0</td>\n",
       "      <td>Salaried</td>\n",
       "      <td>3.0</td>\n",
       "      <td>2015-12-12</td>\n",
       "      <td>...</td>\n",
       "      <td>3.0</td>\n",
       "      <td>Divorced</td>\n",
       "      <td>5.0</td>\n",
       "      <td>1</td>\n",
       "      <td>2</td>\n",
       "      <td>0</td>\n",
       "      <td>Executive</td>\n",
       "      <td>17132.0</td>\n",
       "      <td>Female</td>\n",
       "      <td>FD</td>\n",
       "    </tr>\n",
       "    <tr>\n",
       "      <th>2676</th>\n",
       "      <td>202676</td>\n",
       "      <td>1965-01</td>\n",
       "      <td>0</td>\n",
       "      <td>60.0</td>\n",
       "      <td>Self Enquiry</td>\n",
       "      <td>2</td>\n",
       "      <td>13.0</td>\n",
       "      <td>Small Business</td>\n",
       "      <td>4.0</td>\n",
       "      <td>2014-04-17</td>\n",
       "      <td>...</td>\n",
       "      <td>3.0</td>\n",
       "      <td>Divorced</td>\n",
       "      <td>2.0</td>\n",
       "      <td>0</td>\n",
       "      <td>4</td>\n",
       "      <td>1</td>\n",
       "      <td>Executive</td>\n",
       "      <td>20945.0</td>\n",
       "      <td>Male</td>\n",
       "      <td>MD</td>\n",
       "    </tr>\n",
       "    <tr>\n",
       "      <th>1061</th>\n",
       "      <td>201061</td>\n",
       "      <td>2001-01</td>\n",
       "      <td>0</td>\n",
       "      <td>24.0</td>\n",
       "      <td>Company Invited</td>\n",
       "      <td>3</td>\n",
       "      <td>19.0</td>\n",
       "      <td>Salaried</td>\n",
       "      <td>3.0</td>\n",
       "      <td>2010-01-16</td>\n",
       "      <td>...</td>\n",
       "      <td>4.0</td>\n",
       "      <td>Divorced</td>\n",
       "      <td>2.0</td>\n",
       "      <td>0</td>\n",
       "      <td>1</td>\n",
       "      <td>0</td>\n",
       "      <td>Executive</td>\n",
       "      <td>17033.0</td>\n",
       "      <td>Female</td>\n",
       "      <td>FD</td>\n",
       "    </tr>\n",
       "    <tr>\n",
       "      <th>3074</th>\n",
       "      <td>203074</td>\n",
       "      <td>2002-01</td>\n",
       "      <td>0</td>\n",
       "      <td>23.0</td>\n",
       "      <td>Self Enquiry</td>\n",
       "      <td>1</td>\n",
       "      <td>7.0</td>\n",
       "      <td>Salaried</td>\n",
       "      <td>4.0</td>\n",
       "      <td>2015-07-17</td>\n",
       "      <td>...</td>\n",
       "      <td>3.0</td>\n",
       "      <td>Divorced</td>\n",
       "      <td>8.0</td>\n",
       "      <td>0</td>\n",
       "      <td>2</td>\n",
       "      <td>1</td>\n",
       "      <td>Manager</td>\n",
       "      <td>23453.0</td>\n",
       "      <td>Male</td>\n",
       "      <td>MD</td>\n",
       "    </tr>\n",
       "  </tbody>\n",
       "</table>\n",
       "<p>5 rows × 26 columns</p>\n",
       "</div>"
      ],
      "text/plain": [
       "      CustomerID DateOfBirth(age)  ProdTaken   Age    TypeofContact  CityTier  \\\n",
       "134       200134          1999-01          0  26.0     Self Enquiry         2   \n",
       "720       200720          1995-01          1  30.0     Self Enquiry         1   \n",
       "2676      202676          1965-01          0  60.0     Self Enquiry         2   \n",
       "1061      201061          2001-01          0  24.0  Company Invited         3   \n",
       "3074      203074          2002-01          0  23.0     Self Enquiry         1   \n",
       "\n",
       "      DurationOfPitch      Occupation  Totalvisiting DateofBirth  ...  \\\n",
       "134              31.0        Salaried            3.0  2013-12-28  ...   \n",
       "720              28.0        Salaried            3.0  2015-12-12  ...   \n",
       "2676             13.0  Small Business            4.0  2014-04-17  ...   \n",
       "1061             19.0        Salaried            3.0  2010-01-16  ...   \n",
       "3074              7.0        Salaried            4.0  2015-07-17  ...   \n",
       "\n",
       "      PreferredPropertyStar  MaritalStatus  NumberOfTrips Passport  \\\n",
       "134                     3.0       Divorced            2.0        0   \n",
       "720                     3.0       Divorced            5.0        1   \n",
       "2676                    3.0       Divorced            2.0        0   \n",
       "1061                    4.0       Divorced            2.0        0   \n",
       "3074                    3.0       Divorced            8.0        0   \n",
       "\n",
       "      PitchSatisfactionScore OwnCar  Designation MonthlyIncome  Gender  \\\n",
       "134                        4      1    Executive       17942.0  Female   \n",
       "720                        2      0    Executive       17132.0  Female   \n",
       "2676                       4      1    Executive       20945.0    Male   \n",
       "1061                       1      0    Executive       17033.0  Female   \n",
       "3074                       2      1      Manager       23453.0    Male   \n",
       "\n",
       "      MaritalStatus(Allias)  \n",
       "134                      FD  \n",
       "720                      FD  \n",
       "2676                     MD  \n",
       "1061                     FD  \n",
       "3074                     MD  \n",
       "\n",
       "[5 rows x 26 columns]"
      ]
     },
     "execution_count": 23,
     "metadata": {},
     "output_type": "execute_result"
    }
   ],
   "source": [
    "divorced_data = combined_data[combined_data['MaritalStatus'] == 'Divorced']\n",
    "divorced_data.sample(5)"
   ]
  },
  {
   "cell_type": "code",
   "execution_count": 24,
   "metadata": {},
   "outputs": [],
   "source": [
    "gender_divorce_ratio = divorced_data.groupby('Gender').size() / combined_data.groupby('Gender').size()\n",
    "occupation_divorce_ratio = divorced_data.groupby('Occupation').size() / combined_data.groupby('Occupation').size()\n",
    "citytier_divorce_ratio = divorced_data.groupby('CityTier').size() / combined_data.groupby('CityTier').size()\n",
    "preferred_property_divorce_ratio = divorced_data.groupby('PreferredPropertyStar').size() / combined_data.groupby('PreferredPropertyStar').size()\n",
    "year_of_birth_divorce_ratio = divorced_data.groupby('Year(birth)').size() / combined_data.groupby('Year(birth)').size()\n",
    "number_of_trips_divorce_ratio = divorced_data.groupby('NumberOfTrips').size() / combined_data.groupby('NumberOfTrips').size()\n",
    "\n"
   ]
  },
  {
   "cell_type": "code",
   "execution_count": 25,
   "metadata": {},
   "outputs": [
    {
     "name": "stdout",
     "output_type": "stream",
     "text": [
      "gender_divorce_ratio Gender\n",
      "Female    0.195740\n",
      "Male      0.193416\n",
      "dtype: float64\n",
      "**************************************************\n",
      "occupation_divorce_ratio Occupation\n",
      "Free Lancer            NaN\n",
      "Large Business    0.193548\n",
      "Salaried          0.192568\n",
      "Small Business    0.196737\n",
      "dtype: float64\n",
      "**************************************************\n",
      "citytier_divorce_ratio CityTier\n",
      "1    0.190596\n",
      "2    0.202020\n",
      "3    0.201333\n",
      "dtype: float64\n",
      "**************************************************\n",
      "preferred_property_divorce_ratio PreferredPropertyStar\n",
      "3.0    0.194435\n",
      "4.0    0.197152\n",
      "5.0    0.191423\n",
      "dtype: float64\n",
      "**************************************************\n",
      "year_of_birth_divorce_ratio Year(birth)\n",
      "2010    0.222362\n",
      "2011    0.182692\n",
      "2012    0.190594\n",
      "2013    0.196364\n",
      "2014    0.184597\n",
      "2015    0.190358\n",
      "dtype: float64\n",
      "**************************************************\n",
      "number_of_trips_divorce_ratio NumberOfTrips\n",
      "1.0     0.198387\n",
      "2.0     0.187842\n",
      "3.0     0.191961\n",
      "4.0     0.207113\n",
      "5.0     0.211790\n",
      "6.0     0.195652\n",
      "7.0     0.188073\n",
      "8.0     0.171429\n",
      "19.0         NaN\n",
      "20.0         NaN\n",
      "21.0         NaN\n",
      "22.0         NaN\n",
      "dtype: float64\n",
      "**************************************************\n"
     ]
    }
   ],
   "source": [
    "print(\"gender_divorce_ratio\",gender_divorce_ratio)\n",
    "print(\"*\"*50)\n",
    "print(\"occupation_divorce_ratio\",occupation_divorce_ratio)\n",
    "print(\"*\"*50)\n",
    "print(\"citytier_divorce_ratio\",citytier_divorce_ratio)\n",
    "print(\"*\"*50)\n",
    "print(\"preferred_property_divorce_ratio\",preferred_property_divorce_ratio)\n",
    "print(\"*\"*50)\n",
    "print(\"year_of_birth_divorce_ratio\",year_of_birth_divorce_ratio)\n",
    "print(\"*\"*50)\n",
    "print(\"number_of_trips_divorce_ratio\",number_of_trips_divorce_ratio)\n",
    "print(\"*\"*50)\n"
   ]
  },
  {
   "cell_type": "markdown",
   "metadata": {},
   "source": [
    "## 7.Determine the average number of children for both males and females.\n"
   ]
  },
  {
   "cell_type": "code",
   "execution_count": 32,
   "metadata": {},
   "outputs": [],
   "source": [
    "#NumberOfChildren does not exist in the data\n",
    "import numpy as np  \n",
    "import random\n",
    "def children(row):\n",
    "    if row['MaritalStatus'] == 'Married':\n",
    "        return random.randint(0, 4)  \n",
    "    else:\n",
    "        return 0 "
   ]
  },
  {
   "cell_type": "code",
   "execution_count": 34,
   "metadata": {},
   "outputs": [],
   "source": [
    "combined_data['NumberOfChildren'] = combined_data.apply(children, axis=1)"
   ]
  },
  {
   "cell_type": "code",
   "execution_count": 36,
   "metadata": {},
   "outputs": [
    {
     "data": {
      "text/plain": [
       "NumberOfChildren\n",
       "0    3008\n",
       "4     507\n",
       "2     466\n",
       "3     459\n",
       "1     448\n",
       "Name: count, dtype: int64"
      ]
     },
     "execution_count": 36,
     "metadata": {},
     "output_type": "execute_result"
    }
   ],
   "source": [
    "combined_data['NumberOfChildren'].value_counts()"
   ]
  },
  {
   "cell_type": "code",
   "execution_count": 37,
   "metadata": {},
   "outputs": [
    {
     "data": {
      "text/plain": [
       "3815    1\n",
       "2827    0\n",
       "4376    0\n",
       "163     4\n",
       "73      0\n",
       "Name: NumberOfChildren, dtype: int64"
      ]
     },
     "execution_count": 37,
     "metadata": {},
     "output_type": "execute_result"
    }
   ],
   "source": [
    "combined_data['NumberOfChildren'].sample(5) "
   ]
  },
  {
   "cell_type": "code",
   "execution_count": 38,
   "metadata": {},
   "outputs": [],
   "source": [
    "average_children_by_gender = combined_data.groupby('Gender')['NumberOfChildren'].mean()"
   ]
  },
  {
   "cell_type": "markdown",
   "metadata": {},
   "source": [
    "## 8.Analyze the distribution of children in married and divorced categories, as well as by occupation and single/divorced status.\n"
   ]
  },
  {
   "cell_type": "code",
   "execution_count": 39,
   "metadata": {},
   "outputs": [
    {
     "data": {
      "text/plain": [
       "Gender\n",
       "Female    0.960953\n",
       "Male      0.991084\n",
       "Name: NumberOfChildren, dtype: float64"
      ]
     },
     "execution_count": 39,
     "metadata": {},
     "output_type": "execute_result"
    }
   ],
   "source": [
    "average_children_by_gender"
   ]
  },
  {
   "cell_type": "code",
   "execution_count": null,
   "metadata": {},
   "outputs": [],
   "source": []
  },
  {
   "cell_type": "markdown",
   "metadata": {},
   "source": [
    "## 9.Identify the relationship between occupation/designation and car ownership.\n"
   ]
  },
  {
   "cell_type": "code",
   "execution_count": 40,
   "metadata": {},
   "outputs": [],
   "source": [
    "car_ownership_by_occupation = combined_data.groupby('Occupation')['OwnCar'].mean()\n",
    "car_ownership_by_designation = combined_data.groupby('Designation')['OwnCar'].mean()"
   ]
  },
  {
   "cell_type": "code",
   "execution_count": 42,
   "metadata": {},
   "outputs": [
    {
     "name": "stdout",
     "output_type": "stream",
     "text": [
      "car_ownership_by_occupation Occupation\n",
      "Free Lancer       0.000000\n",
      "Large Business    0.649770\n",
      "Salaried          0.634291\n",
      "Small Business    0.598848\n",
      "Name: OwnCar, dtype: float64\n",
      "**************************************************\n",
      "car_ownership_by_designation Designation\n",
      "AVP               0.701754\n",
      "Executive         0.588491\n",
      "Manager           0.610855\n",
      "Senior Manager    0.652291\n",
      "VP                0.721739\n",
      "Name: OwnCar, dtype: float64\n",
      "**************************************************\n"
     ]
    }
   ],
   "source": [
    "print(\"car_ownership_by_occupation\",car_ownership_by_occupation)\n",
    "print(\"*\"*50)\n",
    "print(\"car_ownership_by_designation\",car_ownership_by_designation)\n",
    "print(\"*\"*50)"
   ]
  },
  {
   "cell_type": "code",
   "execution_count": 43,
   "metadata": {},
   "outputs": [
    {
     "data": {
      "image/png": "[encoded data removed]",
      "text/plain": [
       "<Figure size 1000x600 with 1 Axes>"
      ]
     },
     "metadata": {},
     "output_type": "display_data"
    },
    {
     "data": {
      "image/png": "[encoded data removed]",
      "text/plain": [
       "<Figure size 1000x600 with 1 Axes>"
      ]
     },
     "metadata": {},
     "output_type": "display_data"
    }
   ],
   "source": [
    "import matplotlib.pyplot as plt\n",
    "\n",
    "# Occupation\n",
    "plt.figure(figsize=(10, 6))\n",
    "car_ownership_by_occupation.plot(kind='bar', color='skyblue')\n",
    "plt.title('Car Ownership Proportion by Occupation')\n",
    "plt.ylabel('Proportion of Car Ownership')\n",
    "plt.xlabel('Occupation')\n",
    "plt.xticks(rotation=90)\n",
    "plt.show()\n",
    "\n",
    "#  Designation\n",
    "plt.figure(figsize=(10, 6))\n",
    "car_ownership_by_designation.plot(kind='bar', color='lightcoral')\n",
    "plt.title('Car Ownership Proportion by Designation')\n",
    "plt.ylabel('Proportion of Car Ownership')\n",
    "plt.xlabel('Designation')\n",
    "plt.xticks(rotation=90)\n",
    "plt.show()\n"
   ]
  },
  {
   "cell_type": "code",
   "execution_count": null,
   "metadata": {},
   "outputs": [],
   "source": []
  },
  {
   "cell_type": "markdown",
   "metadata": {},
   "source": [
    "## 10.Analyze the relationship between gender and car ownership.\n"
   ]
  },
  {
   "cell_type": "code",
   "execution_count": 44,
   "metadata": {},
   "outputs": [],
   "source": [
    "car_ownership_by_gender = combined_data.groupby('Gender')['OwnCar'].mean()"
   ]
  },
  {
   "cell_type": "code",
   "execution_count": 45,
   "metadata": {},
   "outputs": [
    {
     "data": {
      "image/png": "[encoded data removed]",
      "text/plain": [
       "<Figure size 1000x600 with 1 Axes>"
      ]
     },
     "metadata": {},
     "output_type": "display_data"
    }
   ],
   "source": [
    "plt.figure(figsize=(10, 6))\n",
    "car_ownership_by_gender.plot(kind='bar', color='skyblue')\n",
    "plt.title('Car Ownership Proportion by Occupation')\n",
    "plt.ylabel('Proportion of Car Ownership')\n",
    "plt.xlabel('Occupation')\n",
    "plt.xticks(rotation=90)\n",
    "plt.show()"
   ]
  },
  {
   "cell_type": "markdown",
   "metadata": {},
   "source": [
    "## 13. is Determine the number of executives in each category (male/female) and calculate their ratio to the total number of executives.\n"
   ]
  },
  {
   "cell_type": "code",
   "execution_count": 47,
   "metadata": {},
   "outputs": [
    {
     "data": {
      "text/plain": [
       "Designation\n",
       "Executive         1842\n",
       "Manager           1732\n",
       "Senior Manager     742\n",
       "AVP                342\n",
       "VP                 230\n",
       "Name: count, dtype: int64"
      ]
     },
     "execution_count": 47,
     "metadata": {},
     "output_type": "execute_result"
    }
   ],
   "source": [
    "combined_data['Designation'].value_counts()"
   ]
  },
  {
   "cell_type": "code",
   "execution_count": 49,
   "metadata": {},
   "outputs": [],
   "source": [
    "executive_data = combined_data[combined_data['Designation'] == 'Executive']"
   ]
  },
  {
   "cell_type": "code",
   "execution_count": 50,
   "metadata": {},
   "outputs": [
    {
     "data": {
      "text/html": [
       "<div>\n",
       "<style scoped>\n",
       "    .dataframe tbody tr th:only-of-type {\n",
       "        vertical-align: middle;\n",
       "    }\n",
       "\n",
       "    .dataframe tbody tr th {\n",
       "        vertical-align: top;\n",
       "    }\n",
       "\n",
       "    .dataframe thead th {\n",
       "        text-align: right;\n",
       "    }\n",
       "</style>\n",
       "<table border=\"1\" class=\"dataframe\">\n",
       "  <thead>\n",
       "    <tr style=\"text-align: right;\">\n",
       "      <th></th>\n",
       "      <th>CustomerID</th>\n",
       "      <th>DateOfBirth(age)</th>\n",
       "      <th>ProdTaken</th>\n",
       "      <th>Age</th>\n",
       "      <th>TypeofContact</th>\n",
       "      <th>CityTier</th>\n",
       "      <th>DurationOfPitch</th>\n",
       "      <th>Occupation</th>\n",
       "      <th>Totalvisiting</th>\n",
       "      <th>DateofBirth</th>\n",
       "      <th>...</th>\n",
       "      <th>MaritalStatus</th>\n",
       "      <th>NumberOfTrips</th>\n",
       "      <th>Passport</th>\n",
       "      <th>PitchSatisfactionScore</th>\n",
       "      <th>OwnCar</th>\n",
       "      <th>Designation</th>\n",
       "      <th>MonthlyIncome</th>\n",
       "      <th>Gender</th>\n",
       "      <th>MaritalStatus(Allias)</th>\n",
       "      <th>NumberOfChildren</th>\n",
       "    </tr>\n",
       "  </thead>\n",
       "  <tbody>\n",
       "    <tr>\n",
       "      <th>2</th>\n",
       "      <td>200002</td>\n",
       "      <td>1988-01</td>\n",
       "      <td>1</td>\n",
       "      <td>37.0</td>\n",
       "      <td>Self Enquiry</td>\n",
       "      <td>1</td>\n",
       "      <td>8.0</td>\n",
       "      <td>Free Lancer</td>\n",
       "      <td>3.0</td>\n",
       "      <td>2013-09-11</td>\n",
       "      <td>...</td>\n",
       "      <td>Single</td>\n",
       "      <td>7.0</td>\n",
       "      <td>1</td>\n",
       "      <td>3</td>\n",
       "      <td>0</td>\n",
       "      <td>Executive</td>\n",
       "      <td>17090.0</td>\n",
       "      <td>Male</td>\n",
       "      <td>MS</td>\n",
       "      <td>0</td>\n",
       "    </tr>\n",
       "    <tr>\n",
       "      <th>3</th>\n",
       "      <td>200003</td>\n",
       "      <td>1992-01</td>\n",
       "      <td>0</td>\n",
       "      <td>33.0</td>\n",
       "      <td>Company Invited</td>\n",
       "      <td>1</td>\n",
       "      <td>9.0</td>\n",
       "      <td>Salaried</td>\n",
       "      <td>3.0</td>\n",
       "      <td>2011-11-12</td>\n",
       "      <td>...</td>\n",
       "      <td>Divorced</td>\n",
       "      <td>2.0</td>\n",
       "      <td>1</td>\n",
       "      <td>5</td>\n",
       "      <td>1</td>\n",
       "      <td>Executive</td>\n",
       "      <td>17909.0</td>\n",
       "      <td>Female</td>\n",
       "      <td>FD</td>\n",
       "      <td>0</td>\n",
       "    </tr>\n",
       "    <tr>\n",
       "      <th>4</th>\n",
       "      <td>200004</td>\n",
       "      <td>1989-01</td>\n",
       "      <td>0</td>\n",
       "      <td>36.0</td>\n",
       "      <td>Self Enquiry</td>\n",
       "      <td>1</td>\n",
       "      <td>8.0</td>\n",
       "      <td>Small Business</td>\n",
       "      <td>2.0</td>\n",
       "      <td>2014-01-19</td>\n",
       "      <td>...</td>\n",
       "      <td>Divorced</td>\n",
       "      <td>1.0</td>\n",
       "      <td>0</td>\n",
       "      <td>5</td>\n",
       "      <td>1</td>\n",
       "      <td>Executive</td>\n",
       "      <td>18468.0</td>\n",
       "      <td>Male</td>\n",
       "      <td>MD</td>\n",
       "      <td>0</td>\n",
       "    </tr>\n",
       "    <tr>\n",
       "      <th>5</th>\n",
       "      <td>200005</td>\n",
       "      <td>1993-01</td>\n",
       "      <td>0</td>\n",
       "      <td>32.0</td>\n",
       "      <td>Company Invited</td>\n",
       "      <td>1</td>\n",
       "      <td>8.0</td>\n",
       "      <td>Salaried</td>\n",
       "      <td>4.0</td>\n",
       "      <td>2010-11-28</td>\n",
       "      <td>...</td>\n",
       "      <td>Single</td>\n",
       "      <td>1.0</td>\n",
       "      <td>0</td>\n",
       "      <td>5</td>\n",
       "      <td>1</td>\n",
       "      <td>Executive</td>\n",
       "      <td>18068.0</td>\n",
       "      <td>Male</td>\n",
       "      <td>MS</td>\n",
       "      <td>0</td>\n",
       "    </tr>\n",
       "    <tr>\n",
       "      <th>6</th>\n",
       "      <td>200006</td>\n",
       "      <td>1966-01</td>\n",
       "      <td>0</td>\n",
       "      <td>59.0</td>\n",
       "      <td>Self Enquiry</td>\n",
       "      <td>1</td>\n",
       "      <td>9.0</td>\n",
       "      <td>Small Business</td>\n",
       "      <td>3.0</td>\n",
       "      <td>2014-01-11</td>\n",
       "      <td>...</td>\n",
       "      <td>Divorced</td>\n",
       "      <td>5.0</td>\n",
       "      <td>1</td>\n",
       "      <td>2</td>\n",
       "      <td>1</td>\n",
       "      <td>Executive</td>\n",
       "      <td>17670.0</td>\n",
       "      <td>Female</td>\n",
       "      <td>FD</td>\n",
       "      <td>0</td>\n",
       "    </tr>\n",
       "  </tbody>\n",
       "</table>\n",
       "<p>5 rows × 27 columns</p>\n",
       "</div>"
      ],
      "text/plain": [
       "   CustomerID DateOfBirth(age)  ProdTaken   Age    TypeofContact  CityTier  \\\n",
       "2      200002          1988-01          1  37.0     Self Enquiry         1   \n",
       "3      200003          1992-01          0  33.0  Company Invited         1   \n",
       "4      200004          1989-01          0  36.0     Self Enquiry         1   \n",
       "5      200005          1993-01          0  32.0  Company Invited         1   \n",
       "6      200006          1966-01          0  59.0     Self Enquiry         1   \n",
       "\n",
       "   DurationOfPitch      Occupation  Totalvisiting DateofBirth  ...  \\\n",
       "2              8.0     Free Lancer            3.0  2013-09-11  ...   \n",
       "3              9.0        Salaried            3.0  2011-11-12  ...   \n",
       "4              8.0  Small Business            2.0  2014-01-19  ...   \n",
       "5              8.0        Salaried            4.0  2010-11-28  ...   \n",
       "6              9.0  Small Business            3.0  2014-01-11  ...   \n",
       "\n",
       "   MaritalStatus  NumberOfTrips  Passport PitchSatisfactionScore  OwnCar  \\\n",
       "2         Single            7.0         1                      3       0   \n",
       "3       Divorced            2.0         1                      5       1   \n",
       "4       Divorced            1.0         0                      5       1   \n",
       "5         Single            1.0         0                      5       1   \n",
       "6       Divorced            5.0         1                      2       1   \n",
       "\n",
       "  Designation  MonthlyIncome  Gender  MaritalStatus(Allias)  NumberOfChildren  \n",
       "2   Executive        17090.0    Male                     MS                 0  \n",
       "3   Executive        17909.0  Female                     FD                 0  \n",
       "4   Executive        18468.0    Male                     MD                 0  \n",
       "5   Executive        18068.0    Male                     MS                 0  \n",
       "6   Executive        17670.0  Female                     FD                 0  \n",
       "\n",
       "[5 rows x 27 columns]"
      ]
     },
     "execution_count": 50,
     "metadata": {},
     "output_type": "execute_result"
    }
   ],
   "source": [
    "executive_data.head()"
   ]
  },
  {
   "cell_type": "code",
   "execution_count": 53,
   "metadata": {},
   "outputs": [],
   "source": [
    "executives_by_gender = executive_data['Gender'].value_counts()"
   ]
  },
  {
   "cell_type": "code",
   "execution_count": 54,
   "metadata": {},
   "outputs": [
    {
     "data": {
      "text/plain": [
       "Gender\n",
       "Male      1162\n",
       "Female     680\n",
       "Name: count, dtype: int64"
      ]
     },
     "execution_count": 54,
     "metadata": {},
     "output_type": "execute_result"
    }
   ],
   "source": [
    "executives_by_gender"
   ]
  },
  {
   "cell_type": "code",
   "execution_count": 56,
   "metadata": {},
   "outputs": [],
   "source": [
    "total_executive = executives_by_gender.sum()"
   ]
  },
  {
   "cell_type": "code",
   "execution_count": 57,
   "metadata": {},
   "outputs": [
    {
     "data": {
      "text/plain": [
       "np.int64(1842)"
      ]
     },
     "execution_count": 57,
     "metadata": {},
     "output_type": "execute_result"
    }
   ],
   "source": [
    "total_executive"
   ]
  },
  {
   "cell_type": "code",
   "execution_count": 58,
   "metadata": {},
   "outputs": [],
   "source": [
    "executives_by_gender_ratio = executives_by_gender/total_executive"
   ]
  },
  {
   "cell_type": "code",
   "execution_count": 59,
   "metadata": {},
   "outputs": [
    {
     "data": {
      "text/plain": [
       "Gender\n",
       "Male      0.630836\n",
       "Female    0.369164\n",
       "Name: count, dtype: float64"
      ]
     },
     "execution_count": 59,
     "metadata": {},
     "output_type": "execute_result"
    }
   ],
   "source": [
    "executives_by_gender_ratio"
   ]
  },
  {
   "cell_type": "code",
   "execution_count": null,
   "metadata": {},
   "outputs": [],
   "source": []
  },
  {
   "cell_type": "markdown",
   "metadata": {},
   "source": [
    "## 14 .Determine the marital status in each category (male/female) and calculate their ratio to the total number of executives.\n"
   ]
  },
  {
   "cell_type": "markdown",
   "metadata": {},
   "source": []
  },
  {
   "cell_type": "markdown",
   "metadata": {},
   "source": []
  },
  {
   "cell_type": "code",
   "execution_count": null,
   "metadata": {},
   "outputs": [],
   "source": []
  },
  {
   "cell_type": "markdown",
   "metadata": {},
   "source": []
  }
 ],
 "metadata": {
  "kernelspec": {
   "display_name": "my_venv",
   "language": "python",
   "name": "python3"
  },
  "language_info": {
   "codemirror_mode": {
    "name": "ipython",
    "version": 3
   },
   "file_extension": ".py",
   "mimetype": "text/x-python",
   "name": "python",
   "nbconvert_exporter": "python",
   "pygments_lexer": "ipython3",
   "version": "3.12.3"
  }
 },
 "nbformat": 4,
 "nbformat_minor": 2
}
