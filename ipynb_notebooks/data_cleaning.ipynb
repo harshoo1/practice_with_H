{
 "cells": [
  {
   "cell_type": "markdown",
   "id": "f752cd1c-c630-4efc-bc8a-f9ea8830af61",
   "metadata": {},
   "source": [
    "## Data cleaning         "
   ]
  },
  {
   "cell_type": "code",
   "execution_count": 2,
   "id": "3f0a88d1-3e51-4e33-8280-ac5ec3570b66",
   "metadata": {},
   "outputs": [],
   "source": [
    "#importing necessary libraries\n",
    "#fmt :off\n",
    "import numpy as np\n",
    "import pandas as pd\n",
    "import matplotlib.pyplot as plt\n",
    "import seaborn as sns\n",
    "%matplotlib inline \n",
    "\n",
    "#fmt :on\n"
   ]
  },
  {
   "cell_type": "code",
   "execution_count": 4,
   "id": "a4f902fc-7841-49d0-93c1-133b8bb7b6a0",
   "metadata": {},
   "outputs": [],
   "source": [
    "data1 = pd.read_csv('/home/theghost001/Pictures/practice_with_H/data/travel_first_half - Travel.csv')\n"
   ]
  },
  {
   "cell_type": "code",
   "execution_count": 5,
   "id": "f2eee9d6",
   "metadata": {},
   "outputs": [],
   "source": [
    "data2 = pd.read_csv('/home/theghost001/Pictures/practice_with_H/data/travel_second_half - Travel.csv')"
   ]
  },
  {
   "cell_type": "code",
   "execution_count": 6,
   "id": "7e2b3130-ef97-4590-83e3-980070106ae1",
   "metadata": {},
   "outputs": [],
   "source": [
    "features1 = (data1.columns).to_list()\n",
    "features2 = (data2.columns).to_list()"
   ]
  },
  {
   "cell_type": "code",
   "execution_count": 7,
   "id": "5b597598-b9c4-46b1-994d-c381c2f6391b",
   "metadata": {},
   "outputs": [
    {
     "data": {
      "text/plain": [
       "(['CustomerID',\n",
       "  'ProdTaken',\n",
       "  'Age',\n",
       "  'TypeofContact',\n",
       "  'CityTier',\n",
       "  'DurationOfPitch',\n",
       "  'Occupation',\n",
       "  'Gender',\n",
       "  'NumberOfPersonVisiting'],\n",
       " ['CustomerID',\n",
       "  'NumberOfFollowups',\n",
       "  'ProductPitched',\n",
       "  'PreferredPropertyStar',\n",
       "  'MaritalStatus',\n",
       "  'NumberOfTrips',\n",
       "  'Passport',\n",
       "  'PitchSatisfactionScore',\n",
       "  'OwnCar',\n",
       "  'NumberOfChildrenVisiting',\n",
       "  'Designation',\n",
       "  'MonthlyIncome'])"
      ]
     },
     "execution_count": 7,
     "metadata": {},
     "output_type": "execute_result"
    }
   ],
   "source": [
    "features1, features2"
   ]
  },
  {
   "cell_type": "markdown",
   "id": "680fdf65-1baf-4fb7-85e6-8931da196189",
   "metadata": {},
   "source": [
    "# Data cleaning\n",
    "1. handling missing values\n",
    "2. handling duplicates\n",
    "3. check data types\n",
    "4. understand the data set\n",
    "5. "
   ]
  },
  {
   "cell_type": "code",
   "execution_count": 12,
   "id": "71b82d3b-eb92-4521-8382-918e30faf4b6",
   "metadata": {},
   "outputs": [],
   "source": [
    "# check for null points\n",
    "null_points1 = data1.isnull().sum()\n",
    "null_points2 = data2.isnull().sum()"
   ]
  },
  {
   "cell_type": "code",
   "execution_count": null,
   "id": "57b5ec9c",
   "metadata": {},
   "outputs": [
    {
     "data": {
      "text/plain": [
       "CustomerID                  0\n",
       "ProdTaken                   0\n",
       "Age                       226\n",
       "TypeofContact              25\n",
       "CityTier                    0\n",
       "DurationOfPitch           251\n",
       "Occupation                  0\n",
       "Gender                      0\n",
       "NumberOfPersonVisiting      0\n",
       "dtype: int64"
      ]
     },
     "execution_count": 16,
     "metadata": {},
     "output_type": "execute_result"
    }
   ],
   "source": [
    "null_points1, null_points2\n"
   ]
  },
  {
   "cell_type": "markdown",
   "id": "fcdaf3de-94b0-4ce4-9931-b8612b021418",
   "metadata": {},
   "source": [
    "data[null_points > 0]"
   ]
  },
  {
   "cell_type": "code",
   "execution_count": 13,
   "id": "a8a49382-b9bf-4cc0-89bd-d284ce043b48",
   "metadata": {},
   "outputs": [],
   "source": [
    "null_points_col1 = null_points1[null_points1>0].index\n",
    "null_points_col2 = null_points2[null_points2>0].index"
   ]
  },
  {
   "cell_type": "code",
   "execution_count": 17,
   "id": "dfcf8d66-682a-4225-b615-b3ee46caa623",
   "metadata": {},
   "outputs": [],
   "source": [
    "data_new1 = data1[null_points_col1]\n",
    "data_new2 = data2[null_points_col2]"
   ]
  },
  {
   "cell_type": "code",
   "execution_count": 19,
   "id": "ba11e7bb-9bdf-4941-bd2c-735133449ffa",
   "metadata": {},
   "outputs": [
    {
     "name": "stdout",
     "output_type": "stream",
     "text": [
      "Age                226\n",
      "TypeofContact       25\n",
      "DurationOfPitch    251\n",
      "dtype: int64\n",
      "**************************************************\n",
      "NumberOfFollowups            45\n",
      "PreferredPropertyStar        26\n",
      "NumberOfTrips               140\n",
      "NumberOfChildrenVisiting     66\n",
      "MonthlyIncome               233\n",
      "dtype: int64\n"
     ]
    }
   ],
   "source": [
    "print(data_new1.isnull().sum())\n",
    "print('*'*50)\n",
    "print(data_new2.isnull().sum())"
   ]
  },
  {
   "cell_type": "code",
   "execution_count": 24,
   "id": "6d7be955-a03e-4a56-aea0-5024cfd0901b",
   "metadata": {},
   "outputs": [
    {
     "name": "stdout",
     "output_type": "stream",
     "text": [
      "<class 'pandas.core.frame.DataFrame'>\n",
      "RangeIndex: 4888 entries, 0 to 4887\n",
      "Data columns (total 9 columns):\n",
      " #   Column                  Non-Null Count  Dtype  \n",
      "---  ------                  --------------  -----  \n",
      " 0   CustomerID              4888 non-null   int64  \n",
      " 1   ProdTaken               4888 non-null   int64  \n",
      " 2   Age                     4662 non-null   float64\n",
      " 3   TypeofContact           4863 non-null   object \n",
      " 4   CityTier                4888 non-null   int64  \n",
      " 5   DurationOfPitch         4637 non-null   float64\n",
      " 6   Occupation              4888 non-null   object \n",
      " 7   Gender                  4888 non-null   object \n",
      " 8   NumberOfPersonVisiting  4888 non-null   int64  \n",
      "dtypes: float64(2), int64(4), object(3)\n",
      "memory usage: 343.8+ KB\n",
      "**************************************************\n",
      "<class 'pandas.core.frame.DataFrame'>\n",
      "RangeIndex: 4888 entries, 0 to 4887\n",
      "Data columns (total 12 columns):\n",
      " #   Column                    Non-Null Count  Dtype  \n",
      "---  ------                    --------------  -----  \n",
      " 0   CustomerID                4888 non-null   int64  \n",
      " 1   NumberOfFollowups         4843 non-null   float64\n",
      " 2   ProductPitched            4888 non-null   object \n",
      " 3   PreferredPropertyStar     4862 non-null   float64\n",
      " 4   MaritalStatus             4888 non-null   object \n",
      " 5   NumberOfTrips             4748 non-null   float64\n",
      " 6   Passport                  4888 non-null   int64  \n",
      " 7   PitchSatisfactionScore    4888 non-null   int64  \n",
      " 8   OwnCar                    4888 non-null   int64  \n",
      " 9   NumberOfChildrenVisiting  4822 non-null   float64\n",
      " 10  Designation               4888 non-null   object \n",
      " 11  MonthlyIncome             4655 non-null   float64\n",
      "dtypes: float64(5), int64(4), object(3)\n",
      "memory usage: 458.4+ KB\n"
     ]
    }
   ],
   "source": [
    "data1.info() \n",
    "print('*'*50)\n",
    "data2.info()"
   ]
  },
  {
   "cell_type": "code",
   "execution_count": 26,
   "id": "fb7e837d-cb5b-4ea2-8d96-123ee4c37207",
   "metadata": {},
   "outputs": [
    {
     "name": "stdout",
     "output_type": "stream",
     "text": [
      "<class 'pandas.core.frame.DataFrame'>\n",
      "RangeIndex: 4888 entries, 0 to 4887\n",
      "Data columns (total 3 columns):\n",
      " #   Column         Non-Null Count  Dtype \n",
      "---  ------         --------------  ----- \n",
      " 0   TypeofContact  4863 non-null   object\n",
      " 1   Occupation     4888 non-null   object\n",
      " 2   Gender         4888 non-null   object\n",
      "dtypes: object(3)\n",
      "memory usage: 114.7+ KB\n",
      "**************************************************\n",
      "<class 'pandas.core.frame.DataFrame'>\n",
      "RangeIndex: 4888 entries, 0 to 4887\n",
      "Data columns (total 3 columns):\n",
      " #   Column          Non-Null Count  Dtype \n",
      "---  ------          --------------  ----- \n",
      " 0   ProductPitched  4888 non-null   object\n",
      " 1   MaritalStatus   4888 non-null   object\n",
      " 2   Designation     4888 non-null   object\n",
      "dtypes: object(3)\n",
      "memory usage: 114.7+ KB\n"
     ]
    }
   ],
   "source": [
    "# selecting only object data \n",
    "((data1.select_dtypes(include='object')).info())\n",
    "print('*'*50)\n",
    "((data2.select_dtypes(include='object')).info())    "
   ]
  },
  {
   "cell_type": "code",
   "execution_count": 81,
   "id": "f865f1ff-8447-4ab4-96c4-d0e214eeb05c",
   "metadata": {},
   "outputs": [
    {
     "data": {
      "text/plain": [
       "TypeofContact\n",
       "Self Enquiry       3444\n",
       "Company Invited    1419\n",
       "Name: count, dtype: int64"
      ]
     },
     "execution_count": 81,
     "metadata": {},
     "output_type": "execute_result"
    }
   ],
   "source": [
    "# checking unique values in the object data\n",
    "data1['TypeofContact'].value_counts()"
   ]
  },
  {
   "cell_type": "code",
   "execution_count": 27,
   "id": "f1276fd8-dab6-47f8-af57-5b06e95e9a60",
   "metadata": {},
   "outputs": [
    {
     "data": {
      "text/plain": [
       "Occupation\n",
       "Salaried          2368\n",
       "Small Business    2084\n",
       "Large Business     434\n",
       "Free Lancer          2\n",
       "Name: count, dtype: int64"
      ]
     },
     "execution_count": 27,
     "metadata": {},
     "output_type": "execute_result"
    }
   ],
   "source": [
    "#data1['Occupation'].value_counts()"
   ]
  },
  {
   "cell_type": "code",
   "execution_count": 85,
   "id": "513717f0-1a49-404f-88d1-b89abe09ba5a",
   "metadata": {},
   "outputs": [
    {
     "data": {
      "text/plain": [
       "Gender\n",
       "Male       2916\n",
       "Female     1817\n",
       "Fe Male     155\n",
       "Name: count, dtype: int64"
      ]
     },
     "execution_count": 85,
     "metadata": {},
     "output_type": "execute_result"
    }
   ],
   "source": [
    "#data['Gender'].value_counts()"
   ]
  },
  {
   "cell_type": "code",
   "execution_count": 89,
   "id": "ef543cd0-f791-4ce8-9052-fe40de1fe7ff",
   "metadata": {},
   "outputs": [
    {
     "data": {
      "text/plain": [
       "ProductPitched\n",
       "Basic           1842\n",
       "Deluxe          1732\n",
       "Standard         742\n",
       "Super Deluxe     342\n",
       "King             230\n",
       "Name: count, dtype: int64"
      ]
     },
     "execution_count": 89,
     "metadata": {},
     "output_type": "execute_result"
    }
   ],
   "source": [
    "#data['ProductPitched'].value_counts()"
   ]
  },
  {
   "cell_type": "code",
   "execution_count": 91,
   "id": "22e40fb8-b33f-41c9-8bb4-debff1fee73a",
   "metadata": {},
   "outputs": [
    {
     "data": {
      "text/plain": [
       "MaritalStatus\n",
       "Married      2340\n",
       "Divorced      950\n",
       "Single        916\n",
       "Unmarried     682\n",
       "Name: count, dtype: int64"
      ]
     },
     "execution_count": 91,
     "metadata": {},
     "output_type": "execute_result"
    }
   ],
   "source": [
    "#data['MaritalStatus'].value_counts()"
   ]
  },
  {
   "cell_type": "code",
   "execution_count": 93,
   "id": "55e6d8d0-4e55-40ec-b06a-766e93756045",
   "metadata": {},
   "outputs": [
    {
     "data": {
      "text/plain": [
       "Designation\n",
       "Executive         1842\n",
       "Manager           1732\n",
       "Senior Manager     742\n",
       "AVP                342\n",
       "VP                 230\n",
       "Name: count, dtype: int64"
      ]
     },
     "execution_count": 93,
     "metadata": {},
     "output_type": "execute_result"
    }
   ],
   "source": [
    "#data['Designation'].value_counts()"
   ]
  },
  {
   "cell_type": "code",
   "execution_count": 28,
   "id": "3b7031b1-afea-4e25-a7a2-25e525d8c839",
   "metadata": {},
   "outputs": [],
   "source": [
    "# correcting the Gender object\n",
    "data1['Gender'] = data1['Gender'].replace('Fe Male', 'Female')"
   ]
  },
  {
   "cell_type": "code",
   "execution_count": 29,
   "id": "461c8789-54b9-4540-9c15-8732eff443c3",
   "metadata": {},
   "outputs": [
    {
     "data": {
      "text/plain": [
       "Gender\n",
       "Male      2916\n",
       "Female    1972\n",
       "Name: count, dtype: int64"
      ]
     },
     "execution_count": 29,
     "metadata": {},
     "output_type": "execute_result"
    }
   ],
   "source": [
    "data1['Gender'].value_counts()\n"
   ]
  },
  {
   "cell_type": "code",
   "execution_count": 30,
   "id": "0c6871eb-6578-4835-9bc9-0c16c323199d",
   "metadata": {},
   "outputs": [
    {
     "name": "stdout",
     "output_type": "stream",
     "text": [
      "Age 4.62357 % missing values\n",
      "TypeofContact 0.51146 % missing values\n",
      "DurationOfPitch 5.13502 % missing values\n"
     ]
    }
   ],
   "source": [
    "# checking missing value percentage in data1\n",
    "features_with_na=[features for features in data1.columns if data1[features].isnull().sum()>=1]\n",
    "for feature in features_with_na:\n",
    "    print(feature,np.round(data1[feature].isnull().mean()*100,5), '% missing values')"
   ]
  },
  {
   "cell_type": "code",
   "execution_count": 34,
   "id": "7fedba53",
   "metadata": {},
   "outputs": [
    {
     "name": "stdout",
     "output_type": "stream",
     "text": [
      "NumberOfFollowups 0.92062 % missing values\n",
      "PreferredPropertyStar 0.53191 % missing values\n",
      "NumberOfTrips 2.86416 % missing values\n",
      "NumberOfChildrenVisiting 1.35025 % missing values\n",
      "MonthlyIncome 4.76678 % missing values\n"
     ]
    }
   ],
   "source": [
    "# checking missing value percentage in data2\n",
    "features_with_na2=[features2 for features2 in data2.columns if data2[features2].isnull().sum()>=1]\n",
    "for feature2 in features_with_na2:\n",
    "    print(feature2,np.round(data2[feature2].isnull().mean()*100,5), '% missing values')"
   ]
  },
  {
   "cell_type": "code",
   "execution_count": 35,
   "id": "a63452ea-b5e8-45b4-8db8-81a263301a70",
   "metadata": {},
   "outputs": [
    {
     "data": {
      "text/html": [
       "<div>\n",
       "<style scoped>\n",
       "    .dataframe tbody tr th:only-of-type {\n",
       "        vertical-align: middle;\n",
       "    }\n",
       "\n",
       "    .dataframe tbody tr th {\n",
       "        vertical-align: top;\n",
       "    }\n",
       "\n",
       "    .dataframe thead th {\n",
       "        text-align: right;\n",
       "    }\n",
       "</style>\n",
       "<table border=\"1\" class=\"dataframe\">\n",
       "  <thead>\n",
       "    <tr style=\"text-align: right;\">\n",
       "      <th></th>\n",
       "      <th>NumberOfFollowups</th>\n",
       "      <th>PreferredPropertyStar</th>\n",
       "      <th>NumberOfTrips</th>\n",
       "      <th>NumberOfChildrenVisiting</th>\n",
       "      <th>MonthlyIncome</th>\n",
       "    </tr>\n",
       "  </thead>\n",
       "  <tbody>\n",
       "    <tr>\n",
       "      <th>count</th>\n",
       "      <td>4843.000000</td>\n",
       "      <td>4862.000000</td>\n",
       "      <td>4748.000000</td>\n",
       "      <td>4822.000000</td>\n",
       "      <td>4655.000000</td>\n",
       "    </tr>\n",
       "    <tr>\n",
       "      <th>mean</th>\n",
       "      <td>3.708445</td>\n",
       "      <td>3.581037</td>\n",
       "      <td>3.236521</td>\n",
       "      <td>1.187267</td>\n",
       "      <td>23619.853491</td>\n",
       "    </tr>\n",
       "    <tr>\n",
       "      <th>std</th>\n",
       "      <td>1.002509</td>\n",
       "      <td>0.798009</td>\n",
       "      <td>1.849019</td>\n",
       "      <td>0.857861</td>\n",
       "      <td>5380.698361</td>\n",
       "    </tr>\n",
       "    <tr>\n",
       "      <th>min</th>\n",
       "      <td>1.000000</td>\n",
       "      <td>3.000000</td>\n",
       "      <td>1.000000</td>\n",
       "      <td>0.000000</td>\n",
       "      <td>1000.000000</td>\n",
       "    </tr>\n",
       "    <tr>\n",
       "      <th>25%</th>\n",
       "      <td>3.000000</td>\n",
       "      <td>3.000000</td>\n",
       "      <td>2.000000</td>\n",
       "      <td>1.000000</td>\n",
       "      <td>20346.000000</td>\n",
       "    </tr>\n",
       "    <tr>\n",
       "      <th>50%</th>\n",
       "      <td>4.000000</td>\n",
       "      <td>3.000000</td>\n",
       "      <td>3.000000</td>\n",
       "      <td>1.000000</td>\n",
       "      <td>22347.000000</td>\n",
       "    </tr>\n",
       "    <tr>\n",
       "      <th>75%</th>\n",
       "      <td>4.000000</td>\n",
       "      <td>4.000000</td>\n",
       "      <td>4.000000</td>\n",
       "      <td>2.000000</td>\n",
       "      <td>25571.000000</td>\n",
       "    </tr>\n",
       "    <tr>\n",
       "      <th>max</th>\n",
       "      <td>6.000000</td>\n",
       "      <td>5.000000</td>\n",
       "      <td>22.000000</td>\n",
       "      <td>3.000000</td>\n",
       "      <td>98678.000000</td>\n",
       "    </tr>\n",
       "  </tbody>\n",
       "</table>\n",
       "</div>"
      ],
      "text/plain": [
       "       NumberOfFollowups  PreferredPropertyStar  NumberOfTrips  \\\n",
       "count        4843.000000            4862.000000    4748.000000   \n",
       "mean            3.708445               3.581037       3.236521   \n",
       "std             1.002509               0.798009       1.849019   \n",
       "min             1.000000               3.000000       1.000000   \n",
       "25%             3.000000               3.000000       2.000000   \n",
       "50%             4.000000               3.000000       3.000000   \n",
       "75%             4.000000               4.000000       4.000000   \n",
       "max             6.000000               5.000000      22.000000   \n",
       "\n",
       "       NumberOfChildrenVisiting  MonthlyIncome  \n",
       "count               4822.000000    4655.000000  \n",
       "mean                   1.187267   23619.853491  \n",
       "std                    0.857861    5380.698361  \n",
       "min                    0.000000    1000.000000  \n",
       "25%                    1.000000   20346.000000  \n",
       "50%                    1.000000   22347.000000  \n",
       "75%                    2.000000   25571.000000  \n",
       "max                    3.000000   98678.000000  "
      ]
     },
     "execution_count": 35,
     "metadata": {},
     "output_type": "execute_result"
    }
   ],
   "source": [
    "# describe object data \n",
    "data2[features_with_na2].select_dtypes(exclude = 'object').describe()"
   ]
  },
  {
   "cell_type": "code",
   "execution_count": 37,
   "id": "0d029f56",
   "metadata": {},
   "outputs": [
    {
     "name": "stdout",
     "output_type": "stream",
     "text": [
      "Index(['CustomerID', 'NumberOfFollowups', 'ProductPitched',\n",
      "       'PreferredPropertyStar', 'MaritalStatus', 'NumberOfTrips', 'Passport',\n",
      "       'PitchSatisfactionScore', 'OwnCar', 'NumberOfChildrenVisiting',\n",
      "       'Designation', 'MonthlyIncome'],\n",
      "      dtype='object')\n",
      "**************************************************\n",
      "Index(['CustomerID', 'ProdTaken', 'Age', 'TypeofContact', 'CityTier',\n",
      "       'DurationOfPitch', 'Occupation', 'Gender', 'NumberOfPersonVisiting'],\n",
      "      dtype='object')\n"
     ]
    }
   ],
   "source": [
    "print(data2.columns)\n",
    "print('*'*50)\n",
    "print(data1.columns)"
   ]
  },
  {
   "cell_type": "markdown",
   "id": "4855f2aa-a73e-42f7-bd68-f2b90f944b3e",
   "metadata": {},
   "source": [
    "# imputing null values\n",
    " 1. impute median value for age column\n",
    " 2. impute mode for type of contact\n",
    " 3. impute median for duration of pitch\n",
    " 4. impute mode for NumberOfFollowUp as it is Discrete feature\n",
    " 5. impute mode for PreferredPropertyStar\n",
    " 6. impute median for numberoftips\n",
    " 7. impute mode for numberofchildrenvisiting\n",
    " 8. impute median for monthlyincome\n",
    "    ->> float for continuous value and impute it with median,  "
   ]
  },
  {
   "cell_type": "code",
   "execution_count": 41,
   "id": "afb5f0b7-a565-4ac5-8681-6fd465636111",
   "metadata": {},
   "outputs": [
    {
     "name": "stderr",
     "output_type": "stream",
     "text": [
      "/tmp/ipykernel_66183/3760948768.py:4: FutureWarning: A value is trying to be set on a copy of a DataFrame or Series through chained assignment using an inplace method.\n",
      "The behavior will change in pandas 3.0. This inplace method will never work because the intermediate object on which we are setting values always behaves as a copy.\n",
      "\n",
      "For example, when doing 'df[col].method(value, inplace=True)', try using 'df.method({col: value}, inplace=True)' or df[col] = df[col].method(value) instead, to perform the operation inplace on the original object.\n",
      "\n",
      "\n",
      "  data1.TypeofContact.fillna(data1.TypeofContact.mode()[0],inplace = True)\n",
      "/tmp/ipykernel_66183/3760948768.py:5: FutureWarning: A value is trying to be set on a copy of a DataFrame or Series through chained assignment using an inplace method.\n",
      "The behavior will change in pandas 3.0. This inplace method will never work because the intermediate object on which we are setting values always behaves as a copy.\n",
      "\n",
      "For example, when doing 'df[col].method(value, inplace=True)', try using 'df.method({col: value}, inplace=True)' or df[col] = df[col].method(value) instead, to perform the operation inplace on the original object.\n",
      "\n",
      "\n",
      "  data1.DurationOfPitch.fillna(data1.DurationOfPitch.median(),inplace = True)\n",
      "/tmp/ipykernel_66183/3760948768.py:9: FutureWarning: A value is trying to be set on a copy of a DataFrame or Series through chained assignment using an inplace method.\n",
      "The behavior will change in pandas 3.0. This inplace method will never work because the intermediate object on which we are setting values always behaves as a copy.\n",
      "\n",
      "For example, when doing 'df[col].method(value, inplace=True)', try using 'df.method({col: value}, inplace=True)' or df[col] = df[col].method(value) instead, to perform the operation inplace on the original object.\n",
      "\n",
      "\n",
      "  data2.NumberOfFollowups.fillna(data2.NumberOfFollowups.mode()[0], inplace=True)\n",
      "/tmp/ipykernel_66183/3760948768.py:12: FutureWarning: A value is trying to be set on a copy of a DataFrame or Series through chained assignment using an inplace method.\n",
      "The behavior will change in pandas 3.0. This inplace method will never work because the intermediate object on which we are setting values always behaves as a copy.\n",
      "\n",
      "For example, when doing 'df[col].method(value, inplace=True)', try using 'df.method({col: value}, inplace=True)' or df[col] = df[col].method(value) instead, to perform the operation inplace on the original object.\n",
      "\n",
      "\n",
      "  data2.PreferredPropertyStar.fillna(data2.PreferredPropertyStar.mode()[0], inplace=True)\n",
      "/tmp/ipykernel_66183/3760948768.py:15: FutureWarning: A value is trying to be set on a copy of a DataFrame or Series through chained assignment using an inplace method.\n",
      "The behavior will change in pandas 3.0. This inplace method will never work because the intermediate object on which we are setting values always behaves as a copy.\n",
      "\n",
      "For example, when doing 'df[col].method(value, inplace=True)', try using 'df.method({col: value}, inplace=True)' or df[col] = df[col].method(value) instead, to perform the operation inplace on the original object.\n",
      "\n",
      "\n",
      "  data2.NumberOfTrips.fillna(data2.NumberOfTrips.median(), inplace=True)\n",
      "/tmp/ipykernel_66183/3760948768.py:18: FutureWarning: A value is trying to be set on a copy of a DataFrame or Series through chained assignment using an inplace method.\n",
      "The behavior will change in pandas 3.0. This inplace method will never work because the intermediate object on which we are setting values always behaves as a copy.\n",
      "\n",
      "For example, when doing 'df[col].method(value, inplace=True)', try using 'df.method({col: value}, inplace=True)' or df[col] = df[col].method(value) instead, to perform the operation inplace on the original object.\n",
      "\n",
      "\n",
      "  data2.NumberOfChildrenVisiting.fillna(data2.NumberOfChildrenVisiting.mode()[0], inplace=True)\n",
      "/tmp/ipykernel_66183/3760948768.py:21: FutureWarning: A value is trying to be set on a copy of a DataFrame or Series through chained assignment using an inplace method.\n",
      "The behavior will change in pandas 3.0. This inplace method will never work because the intermediate object on which we are setting values always behaves as a copy.\n",
      "\n",
      "For example, when doing 'df[col].method(value, inplace=True)', try using 'df.method({col: value}, inplace=True)' or df[col] = df[col].method(value) instead, to perform the operation inplace on the original object.\n",
      "\n",
      "\n",
      "  data2.MonthlyIncome.fillna(data2.MonthlyIncome.median(), inplace=True)\n"
     ]
    }
   ],
   "source": [
    "#filling missing values\n",
    "# data1.Age.fillna(data1.Age.median(),inplace=True)\n",
    "data1['Age'] = data1['Age'].fillna(data1['Age'].median())\n",
    "data1.TypeofContact.fillna(data1.TypeofContact.mode()[0],inplace = True)\n",
    "data1.DurationOfPitch.fillna(data1.DurationOfPitch.median(),inplace = True)\n",
    "\n",
    "\n",
    "#NumberOfFollowups\n",
    "data2.NumberOfFollowups.fillna(data2.NumberOfFollowups.mode()[0], inplace=True)\n",
    "\n",
    "#PreferredPropertyStar\n",
    "data2.PreferredPropertyStar.fillna(data2.PreferredPropertyStar.mode()[0], inplace=True)\n",
    "\n",
    "#NumberOfTrips\n",
    "data2.NumberOfTrips.fillna(data2.NumberOfTrips.median(), inplace=True)\n",
    "\n",
    "#NumberOfChildrenVisiting\n",
    "data2.NumberOfChildrenVisiting.fillna(data2.NumberOfChildrenVisiting.mode()[0], inplace=True)\n",
    "\n",
    "#MonthlyIncome\n",
    "data2.MonthlyIncome.fillna(data2.MonthlyIncome.median(), inplace=True)\n"
   ]
  },
  {
   "cell_type": "code",
   "execution_count": 45,
   "id": "a9f96b7d-c990-418b-b8d2-f5c68526085e",
   "metadata": {},
   "outputs": [
    {
     "name": "stdout",
     "output_type": "stream",
     "text": [
      "CustomerID                0\n",
      "ProdTaken                 0\n",
      "Age                       0\n",
      "TypeofContact             0\n",
      "CityTier                  0\n",
      "DurationOfPitch           0\n",
      "Occupation                0\n",
      "Gender                    0\n",
      "NumberOfPersonVisiting    0\n",
      "dtype: int64\n",
      "**************************************************\n",
      "CustomerID                  0\n",
      "NumberOfFollowups           0\n",
      "ProductPitched              0\n",
      "PreferredPropertyStar       0\n",
      "MaritalStatus               0\n",
      "NumberOfTrips               0\n",
      "Passport                    0\n",
      "PitchSatisfactionScore      0\n",
      "OwnCar                      0\n",
      "NumberOfChildrenVisiting    0\n",
      "Designation                 0\n",
      "MonthlyIncome               0\n",
      "dtype: int64\n"
     ]
    }
   ],
   "source": [
    "print(data1.isnull().sum())\n",
    "print('*'*50)\n",
    "print(data2.isnull().sum())"
   ]
  },
  {
   "cell_type": "code",
   "execution_count": 120,
   "id": "77c467a3-a7cd-4820-aa61-8796b8c76145",
   "metadata": {},
   "outputs": [
    {
     "data": {
      "text/html": [
       "<div>\n",
       "<style scoped>\n",
       "    .dataframe tbody tr th:only-of-type {\n",
       "        vertical-align: middle;\n",
       "    }\n",
       "\n",
       "    .dataframe tbody tr th {\n",
       "        vertical-align: top;\n",
       "    }\n",
       "\n",
       "    .dataframe thead th {\n",
       "        text-align: right;\n",
       "    }\n",
       "</style>\n",
       "<table border=\"1\" class=\"dataframe\">\n",
       "  <thead>\n",
       "    <tr style=\"text-align: right;\">\n",
       "      <th></th>\n",
       "      <th>CustomerID</th>\n",
       "      <th>ProdTaken</th>\n",
       "      <th>Age</th>\n",
       "      <th>TypeofContact</th>\n",
       "      <th>CityTier</th>\n",
       "      <th>DurationOfPitch</th>\n",
       "      <th>Occupation</th>\n",
       "      <th>Gender</th>\n",
       "      <th>NumberOfPersonVisiting</th>\n",
       "      <th>NumberOfFollowups</th>\n",
       "      <th>ProductPitched</th>\n",
       "      <th>PreferredPropertyStar</th>\n",
       "      <th>MaritalStatus</th>\n",
       "      <th>NumberOfTrips</th>\n",
       "      <th>Passport</th>\n",
       "      <th>PitchSatisfactionScore</th>\n",
       "      <th>OwnCar</th>\n",
       "      <th>NumberOfChildrenVisiting</th>\n",
       "      <th>Designation</th>\n",
       "      <th>MonthlyIncome</th>\n",
       "    </tr>\n",
       "  </thead>\n",
       "  <tbody>\n",
       "    <tr>\n",
       "      <th>0</th>\n",
       "      <td>200000</td>\n",
       "      <td>1</td>\n",
       "      <td>41.0</td>\n",
       "      <td>Self Enquiry</td>\n",
       "      <td>3</td>\n",
       "      <td>6.0</td>\n",
       "      <td>Salaried</td>\n",
       "      <td>Female</td>\n",
       "      <td>3</td>\n",
       "      <td>3.0</td>\n",
       "      <td>Deluxe</td>\n",
       "      <td>3.0</td>\n",
       "      <td>Single</td>\n",
       "      <td>1.0</td>\n",
       "      <td>1</td>\n",
       "      <td>2</td>\n",
       "      <td>1</td>\n",
       "      <td>0.0</td>\n",
       "      <td>Manager</td>\n",
       "      <td>20993.0</td>\n",
       "    </tr>\n",
       "  </tbody>\n",
       "</table>\n",
       "</div>"
      ],
      "text/plain": [
       "   CustomerID  ProdTaken   Age TypeofContact  CityTier  DurationOfPitch  \\\n",
       "0      200000          1  41.0  Self Enquiry         3              6.0   \n",
       "\n",
       "  Occupation  Gender  NumberOfPersonVisiting  NumberOfFollowups  \\\n",
       "0   Salaried  Female                       3                3.0   \n",
       "\n",
       "  ProductPitched  PreferredPropertyStar MaritalStatus  NumberOfTrips  \\\n",
       "0         Deluxe                    3.0        Single            1.0   \n",
       "\n",
       "   Passport  PitchSatisfactionScore  OwnCar  NumberOfChildrenVisiting  \\\n",
       "0         1                       2       1                       0.0   \n",
       "\n",
       "  Designation  MonthlyIncome  \n",
       "0     Manager        20993.0  "
      ]
     },
     "execution_count": 120,
     "metadata": {},
     "output_type": "execute_result"
    }
   ],
   "source": [
    "#data1.head(1)\n"
   ]
  },
  {
   "cell_type": "code",
   "execution_count": 46,
   "id": "be51f6c8-7b5e-4292-80f0-0820f67e0e08",
   "metadata": {},
   "outputs": [],
   "source": [
    "data1['Totalvisiting'] = data1['NumberOfPersonVisiting'] + data2['NumberOfChildrenVisiting']\n",
    "data1.drop(columns= ['NumberOfPersonVisiting'], inplace =  True)\n",
    "data2.drop(columns= ['NumberOfChildrenVisiting'],inplace = True)\n"
   ]
  },
  {
   "cell_type": "code",
   "execution_count": 130,
   "id": "49b9232d-5157-4d23-a84c-c5fbad539a0c",
   "metadata": {},
   "outputs": [
    {
     "name": "stdout",
     "output_type": "stream",
     "text": [
      " Num of numerical feature :  13\n"
     ]
    }
   ],
   "source": [
    "# #getting all the numeric features\n",
    "# numeric_features = [features for features in data.columns if data[features].dtype != 'O']\n",
    "# print(' Num of numerical feature : ', len(numeric_features))"
   ]
  },
  {
   "cell_type": "code",
   "execution_count": 142,
   "id": "7edfd459-f51c-4d56-96de-1024682acb46",
   "metadata": {},
   "outputs": [
    {
     "name": "stdout",
     "output_type": "stream",
     "text": [
      " Number of categorical features :  6\n"
     ]
    }
   ],
   "source": [
    "# # getting all categorical features\n",
    "# categorical_feature = [feature for feature in data.columns if data[feature].dtype == 'O']\n",
    "# print(' Number of categorical features : ', len(categorical_feature))"
   ]
  },
  {
   "cell_type": "code",
   "execution_count": 148,
   "id": "ae56c476-976d-4ba6-9ae6-0e2da7211bf4",
   "metadata": {},
   "outputs": [
    {
     "name": "stdout",
     "output_type": "stream",
     "text": [
      "Num of Discrete Features : 9\n"
     ]
    }
   ],
   "source": [
    "# ## Discrete features\n",
    "# discrete_features=[feature for feature in numeric_features if len(data[feature].unique())<=25]\n",
    "# print('Num of Discrete Features :',len(discrete_features))"
   ]
  },
  {
   "cell_type": "code",
   "execution_count": 48,
   "id": "e04af457-82bf-44fd-b66a-c28c042bd934",
   "metadata": {},
   "outputs": [],
   "source": [
    "# ## coontinuous features\n",
    "# continuous_features=[feature for feature in numeric_features if feature not in discrete_features]\n",
    "# print('Num of Continuous Features :',len(continuous_features))"
   ]
  },
  {
   "cell_type": "code",
   "execution_count": 50,
   "id": "5eed9c68",
   "metadata": {},
   "outputs": [],
   "source": [
    "data1.to_csv('/home/theghost001/Pictures/practice_with_H/data/null_value_imputed_data1.csv', index = False)\n",
    "data2.to_csv('/home/theghost001/Pictures/practice_with_H/data/null_value_imputed_data2.csv', index = False)"
   ]
  },
  {
   "cell_type": "code",
   "execution_count": null,
   "id": "2c0c58da",
   "metadata": {},
   "outputs": [],
   "source": []
  }
 ],
 "metadata": {
  "kernelspec": {
   "display_name": "my_venv",
   "language": "python",
   "name": "python3"
  },
  "language_info": {
   "codemirror_mode": {
    "name": "ipython",
    "version": 3
   },
   "file_extension": ".py",
   "mimetype": "text/x-python",
   "name": "python",
   "nbconvert_exporter": "python",
   "pygments_lexer": "ipython3",
   "version": "3.12.3"
  }
 },
 "nbformat": 4,
 "nbformat_minor": 5
}
