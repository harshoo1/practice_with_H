{
 "cells": [
  {
   "cell_type": "code",
   "execution_count": 1,
   "metadata": {},
   "outputs": [],
   "source": [
    "# loding the libraries\n",
    "import numpy as numpy\n",
    "import pandas as pd\n",
    "import matplotlib.pyplot as plt\n",
    "import seaborn as sns\n",
    "from sklearn.model_selection import train_test_split"
   ]
  },
  {
   "cell_type": "code",
   "execution_count": 10,
   "metadata": {},
   "outputs": [],
   "source": [
    "import sys\n",
    "sys.path.append('/home/theghost001/Pictures/practice_with_H/.py')\n",
    "\n",
    "#  import logger\n",
    "from logger import get_logger, log_function\n"
   ]
  },
  {
   "cell_type": "code",
   "execution_count": 12,
   "metadata": {},
   "outputs": [],
   "source": [
    "# Initialize logger\n",
    "logger = get_logger(\"project_logger\", \"project.log\")\n"
   ]
  },
  {
   "cell_type": "code",
   "execution_count": 4,
   "metadata": {},
   "outputs": [],
   "source": [
    "logger.info(\"Loading the data\")"
   ]
  },
  {
   "cell_type": "code",
   "execution_count": 5,
   "metadata": {},
   "outputs": [],
   "source": [
    "#  will do (1-15) on the data\n",
    "#1. univariate analysis\n",
    "#2. bivariate analysis\n",
    "#3. multivariate analysis\n",
    "#4. missing values\n",
    "#5. outliers\n",
    "#6. feature engineering\n",
    "#7. feature selection\n",
    "#8. model building\n",
    "#9. model evaluation\n",
    "#10. model deployment\n",
    "#11. model monitoring\n",
    "#12. model retraining\n",
    "#13. model tuning\n",
    "#14. model optimization\n",
    "#15. model scaling"
   ]
  },
  {
   "cell_type": "code",
   "execution_count": 16,
   "metadata": {},
   "outputs": [],
   "source": [
    "# # uploading data on the sqlite3 db for storage and further analysis\n",
    "# import sqlite3\n",
    "# #files\n",
    "# csv_file = \"/home/theghost001/Pictures/practice_with_H/data/combined_data.csv\"\n",
    "# db_file = \"/home/theghost001/Pictures/practice_with_H/data/data.db\"\n",
    "# # connection to the sqlite3 \n",
    "# con = sqlite3.connect(db_file)\n",
    "# print(\"Connection to the sqlite3 db is successful\")\n",
    "# # reading the csv file into dataFrame\n",
    "# df = pd.read_csv(csv_file)\n",
    "# print(\"CSV file read into the dataFrame successfully\")\n",
    "# # saving the data into the sqlite3 db\n",
    "# table_name = \"travelData\"\n",
    "# df.to_sql(table_name, con, if_exists=\"replace\",index=False)\n",
    "# print(\"Data saved into the sqlite3 db successfully\")\n",
    "\n",
    "# uploading data on the sqlite3 db for storage and further analysis with logging also\n",
    "\n",
    "@log_function(logger)\n",
    "def connection_to_db(db_path):\n",
    "    con = sqlite3.connect(db_path)\n",
    "    return con\n",
    "\n",
    "@log_function(logger)\n",
    "def load_data_from_csv(csv_path):\n",
    "    df = pd.read_csv(csv_path)\n",
    "    return df\n",
    "\n",
    "@log_function(logger)\n",
    "def save_data_to_db(con, df, table_name,index = False):\n",
    "    df.to_sql(table_name, con, if_exists=\"replace\", index=False)\n",
    "\n",
    "# main()\n",
    "try:\n",
    "    logger.info(\"Loading the data into sqlite3 db\")\n",
    "\n",
    "    db_path = \"/home/theghost001/Pictures/practice_with_H/data/data.db\"\n",
    "    csv_path = \"/home/theghost001/Pictures/practice_with_H/data/combined_data.csv\"\n",
    "    table_name = \"travelData\"\n",
    "\n",
    "    #making connection to the sqlite3 db\n",
    "    # con = connection_to_db(db_path)\n",
    "    # df = load_data_from_csv(csv_path)\n",
    "    # save_data_to_db(con, df, table_name)\n",
    "\n",
    "    with sqlite3.connect(db_path) as con:\n",
    "        df = load_data_from_csv(csv_path)\n",
    "        save_data_to_db(con = con, df = df, table_name = table_name,index=False)\n",
    "\n",
    "\n",
    "    logger.info(\"Data loaded into sqlite3 db successfully\")\n",
    "except Exception as e:\n",
    "    logger.error(f\"Error: {str(e)}\")\n",
    "    raise\n",
    "finally:\n",
    "    if 'con' in locals():\n",
    "        con.close()\n",
    "        logger.info(\"Connection to the sqlite3 db closed successfully\")\n",
    "        \n",
    "\n"
   ]
  },
  {
   "cell_type": "code",
   "execution_count": 24,
   "metadata": {},
   "outputs": [
    {
     "name": "stdout",
     "output_type": "stream",
     "text": [
      "[(200000, '1984-01', 1, 41.0, 'Self Enquiry', 3, 6.0, 'Salaried', 3.0, '2015-04-28', 28, 4, 2015, 'SE', 3.0, 'Deluxe', 3.0, 'Single', 1.0, 1, 2, 1, 'Manager', 20993.0, 'Female', 'FS', 0)]\n",
      "<class 'list'>\n"
     ]
    }
   ],
   "source": [
    "#testing the connection to the sqlite3 db\n",
    "db_path = \"/home/theghost001/Pictures/practice_with_H/data/data.db\"\n",
    "\n",
    "con = sqlite3.connect(db_path)\n",
    "cursor = con.cursor()\n",
    "\n",
    "cursor.execute(\"SELECT * FROM travelData LIMIT 1\")\n",
    "print(cursor.fetchall())\n",
    "print(type(cursor.fetchall()))\n",
    "\n",
    "con.close()"
   ]
  },
  {
   "cell_type": "code",
   "execution_count": 31,
   "metadata": {},
   "outputs": [],
   "source": [
    "#testing the connection to the sqlite3 db\n",
    "db_path = \"/home/theghost001/Pictures/practice_with_H/data/data.db\"\n",
    "\n",
    "con = sqlite3.connect(db_path)\n",
    "cursor = con.cursor()\n",
    "\n",
    "cursor.execute(\"SELECT * FROM travelData\")\n",
    "data = cursor.fetchall()\n",
    "\n",
    "column_names = [description[0] for description in cursor.description]\n",
    "\n",
    "df = pd.DataFrame(data,columns=column_names)\n",
    "con.close()"
   ]
  },
  {
   "cell_type": "code",
   "execution_count": 33,
   "metadata": {},
   "outputs": [
    {
     "data": {
      "text/plain": [
       "(4888, 27)"
      ]
     },
     "execution_count": 33,
     "metadata": {},
     "output_type": "execute_result"
    }
   ],
   "source": [
    "df.shape"
   ]
  },
  {
   "cell_type": "code",
   "execution_count": null,
   "metadata": {},
   "outputs": [],
   "source": [
    "df."
   ]
  },
  {
   "cell_type": "code",
   "execution_count": null,
   "metadata": {},
   "outputs": [],
   "source": []
  },
  {
   "cell_type": "code",
   "execution_count": null,
   "metadata": {},
   "outputs": [],
   "source": []
  },
  {
   "cell_type": "code",
   "execution_count": null,
   "metadata": {},
   "outputs": [],
   "source": []
  },
  {
   "cell_type": "code",
   "execution_count": null,
   "metadata": {},
   "outputs": [],
   "source": []
  },
  {
   "cell_type": "code",
   "execution_count": null,
   "metadata": {},
   "outputs": [],
   "source": []
  },
  {
   "cell_type": "markdown",
   "metadata": {},
   "source": [
    "## 1. Univariate Analysis"
   ]
  },
  {
   "cell_type": "code",
   "execution_count": null,
   "metadata": {},
   "outputs": [],
   "source": []
  }
 ],
 "metadata": {
  "kernelspec": {
   "display_name": "my_venv",
   "language": "python",
   "name": "python3"
  },
  "language_info": {
   "codemirror_mode": {
    "name": "ipython",
    "version": 3
   },
   "file_extension": ".py",
   "mimetype": "text/x-python",
   "name": "python",
   "nbconvert_exporter": "python",
   "pygments_lexer": "ipython3",
   "version": "3.12.3"
  }
 },
 "nbformat": 4,
 "nbformat_minor": 2
}
