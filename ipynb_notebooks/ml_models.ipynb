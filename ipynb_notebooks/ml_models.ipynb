{
 "cells": [
  {
   "cell_type": "code",
   "execution_count": 1,
   "metadata": {},
   "outputs": [],
   "source": [
    "# loding the libraries\n",
    "import numpy as numpy\n",
    "import pandas as pd\n",
    "import matplotlib.pyplot as plt\n",
    "import seaborn as sns\n",
    "from sklearn.model_selection import train_test_split"
   ]
  },
  {
   "cell_type": "code",
   "execution_count": 9,
   "metadata": {},
   "outputs": [],
   "source": [
    "import sys\n",
    "sys.path.append('/home/theghost001/Pictures/practice_with_H/.py')\n",
    "\n",
    "#  import logger\n",
    "from logger import get_logger, log_function\n"
   ]
  },
  {
   "cell_type": "code",
   "execution_count": 10,
   "metadata": {},
   "outputs": [],
   "source": [
    "# Initialize logger\n",
    "logger = get_logger(\"test_logger\", \"test.log\")\n",
    "\n",
    "# Test a logging message\n",
    "logger.info(\"Logger imported successfully!\")\n"
   ]
  },
  {
   "cell_type": "code",
   "execution_count": 12,
   "metadata": {},
   "outputs": [],
   "source": [
    "logger.info(\"Loading the data\")"
   ]
  },
  {
   "cell_type": "code",
   "execution_count": 14,
   "metadata": {},
   "outputs": [],
   "source": [
    "#  will do (1-15) on the data\n",
    "#1. univariate analysis\n",
    "#2. bivariate analysis\n",
    "#3. multivariate analysis\n",
    "#4. missing values\n",
    "#5. outliers\n",
    "#6. feature engineering\n",
    "#7. feature selection\n",
    "#8. model building\n",
    "#9. model evaluation\n",
    "#10. model deployment\n",
    "#11. model monitoring\n",
    "#12. model retraining\n",
    "#13. model tuning\n",
    "#14. model optimization\n",
    "#15. model scaling"
   ]
  },
  {
   "cell_type": "code",
   "execution_count": null,
   "metadata": {},
   "outputs": [],
   "source": [
    "@log_function"
   ]
  }
 ],
 "metadata": {
  "kernelspec": {
   "display_name": "my_venv",
   "language": "python",
   "name": "python3"
  },
  "language_info": {
   "codemirror_mode": {
    "name": "ipython",
    "version": 3
   },
   "file_extension": ".py",
   "mimetype": "text/x-python",
   "name": "python",
   "nbconvert_exporter": "python",
   "pygments_lexer": "ipython3",
   "version": "3.12.3"
  }
 },
 "nbformat": 4,
 "nbformat_minor": 2
}
