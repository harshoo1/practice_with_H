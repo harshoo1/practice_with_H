{
 "cells": [
  {
   "cell_type": "code",
   "execution_count": 1,
   "metadata": {},
   "outputs": [],
   "source": [
    "#introducing a new \"DateOfBirth(age)\" column in  data/null_value_imputed_data1.csv that will calculate the DoB of the person based on age at the time of data collection \n",
    "#  \"DateOfBirth(age)\" = date_today - age\n",
    "#  \"DateOfBirth(age)\" will contain data in (YYYY-MM) format"
   ]
  },
  {
   "cell_type": "code",
   "execution_count": 3,
   "metadata": {},
   "outputs": [],
   "source": [
    "from datetime import datetime, timedelta\n",
    "import pandas as pd\n"
   ]
  },
  {
   "cell_type": "code",
   "execution_count": 6,
   "metadata": {},
   "outputs": [],
   "source": [
    "data1 = pd.read_csv(\"/home/theghost001/Pictures/practice_with_H/data/null_value_imputed_data1.csv\",encoding='ascii')"
   ]
  },
  {
   "cell_type": "code",
   "execution_count": 7,
   "metadata": {},
   "outputs": [],
   "source": [
    "data1.insert(1, \"DateOfBirth(age)\", None)"
   ]
  },
  {
   "cell_type": "code",
   "execution_count": 11,
   "metadata": {},
   "outputs": [],
   "source": [
    "for index, row in data1.iterrows():\n",
    "    data1.loc[index, 'DateOfBirth(age)'] = (datetime.today() - timedelta(days = 365.25*row['Age'])).strftime('%Y-%m')"
   ]
  },
  {
   "cell_type": "code",
   "execution_count": 12,
   "metadata": {},
   "outputs": [
    {
     "data": {
      "text/html": [
       "<div>\n",
       "<style scoped>\n",
       "    .dataframe tbody tr th:only-of-type {\n",
       "        vertical-align: middle;\n",
       "    }\n",
       "\n",
       "    .dataframe tbody tr th {\n",
       "        vertical-align: top;\n",
       "    }\n",
       "\n",
       "    .dataframe thead th {\n",
       "        text-align: right;\n",
       "    }\n",
       "</style>\n",
       "<table border=\"1\" class=\"dataframe\">\n",
       "  <thead>\n",
       "    <tr style=\"text-align: right;\">\n",
       "      <th></th>\n",
       "      <th>CustomerID</th>\n",
       "      <th>DateOfBirth(age)</th>\n",
       "      <th>ProdTaken</th>\n",
       "      <th>Age</th>\n",
       "      <th>TypeofContact</th>\n",
       "      <th>CityTier</th>\n",
       "      <th>DurationOfPitch</th>\n",
       "      <th>Occupation</th>\n",
       "      <th>Gender</th>\n",
       "      <th>Totalvisiting</th>\n",
       "    </tr>\n",
       "  </thead>\n",
       "  <tbody>\n",
       "    <tr>\n",
       "      <th>0</th>\n",
       "      <td>200000</td>\n",
       "      <td>1984-01</td>\n",
       "      <td>1</td>\n",
       "      <td>41.0</td>\n",
       "      <td>Self Enquiry</td>\n",
       "      <td>3</td>\n",
       "      <td>6.0</td>\n",
       "      <td>Salaried</td>\n",
       "      <td>Female</td>\n",
       "      <td>3.0</td>\n",
       "    </tr>\n",
       "    <tr>\n",
       "      <th>1</th>\n",
       "      <td>200001</td>\n",
       "      <td>1976-01</td>\n",
       "      <td>0</td>\n",
       "      <td>49.0</td>\n",
       "      <td>Company Invited</td>\n",
       "      <td>1</td>\n",
       "      <td>14.0</td>\n",
       "      <td>Salaried</td>\n",
       "      <td>Male</td>\n",
       "      <td>5.0</td>\n",
       "    </tr>\n",
       "    <tr>\n",
       "      <th>2</th>\n",
       "      <td>200002</td>\n",
       "      <td>1988-01</td>\n",
       "      <td>1</td>\n",
       "      <td>37.0</td>\n",
       "      <td>Self Enquiry</td>\n",
       "      <td>1</td>\n",
       "      <td>8.0</td>\n",
       "      <td>Free Lancer</td>\n",
       "      <td>Male</td>\n",
       "      <td>3.0</td>\n",
       "    </tr>\n",
       "    <tr>\n",
       "      <th>3</th>\n",
       "      <td>200003</td>\n",
       "      <td>1992-01</td>\n",
       "      <td>0</td>\n",
       "      <td>33.0</td>\n",
       "      <td>Company Invited</td>\n",
       "      <td>1</td>\n",
       "      <td>9.0</td>\n",
       "      <td>Salaried</td>\n",
       "      <td>Female</td>\n",
       "      <td>3.0</td>\n",
       "    </tr>\n",
       "    <tr>\n",
       "      <th>4</th>\n",
       "      <td>200004</td>\n",
       "      <td>1989-01</td>\n",
       "      <td>0</td>\n",
       "      <td>36.0</td>\n",
       "      <td>Self Enquiry</td>\n",
       "      <td>1</td>\n",
       "      <td>8.0</td>\n",
       "      <td>Small Business</td>\n",
       "      <td>Male</td>\n",
       "      <td>2.0</td>\n",
       "    </tr>\n",
       "  </tbody>\n",
       "</table>\n",
       "</div>"
      ],
      "text/plain": [
       "   CustomerID DateOfBirth(age)  ProdTaken   Age    TypeofContact  CityTier  \\\n",
       "0      200000          1984-01          1  41.0     Self Enquiry         3   \n",
       "1      200001          1976-01          0  49.0  Company Invited         1   \n",
       "2      200002          1988-01          1  37.0     Self Enquiry         1   \n",
       "3      200003          1992-01          0  33.0  Company Invited         1   \n",
       "4      200004          1989-01          0  36.0     Self Enquiry         1   \n",
       "\n",
       "   DurationOfPitch      Occupation  Gender  Totalvisiting  \n",
       "0              6.0        Salaried  Female            3.0  \n",
       "1             14.0        Salaried    Male            5.0  \n",
       "2              8.0     Free Lancer    Male            3.0  \n",
       "3              9.0        Salaried  Female            3.0  \n",
       "4              8.0  Small Business    Male            2.0  "
      ]
     },
     "execution_count": 12,
     "metadata": {},
     "output_type": "execute_result"
    }
   ],
   "source": [
    "data1.head()"
   ]
  },
  {
   "cell_type": "code",
   "execution_count": 13,
   "metadata": {},
   "outputs": [
    {
     "data": {
      "text/plain": [
       "DateOfBirth(age)\n",
       "1989-01    457\n",
       "1990-01    237\n",
       "1991-01    211\n",
       "1994-01    203\n",
       "1995-01    199\n",
       "1993-01    197\n",
       "1992-01    189\n",
       "1988-01    185\n",
       "1996-01    178\n",
       "1987-01    176\n",
       "1984-01    155\n",
       "1986-01    150\n",
       "1997-01    147\n",
       "1985-01    146\n",
       "1983-01    142\n",
       "1998-01    138\n",
       "1982-01    130\n",
       "1979-01    121\n",
       "1980-01    116\n",
       "1999-01    106\n",
       "1981-01    105\n",
       "1974-01     90\n",
       "1978-01     88\n",
       "1975-01     86\n",
       "2000-01     74\n",
       "1973-01     68\n",
       "1972-01     66\n",
       "1976-01     65\n",
       "1977-01     65\n",
       "1970-01     64\n",
       "1971-01     61\n",
       "1969-01     58\n",
       "2001-01     56\n",
       "2002-01     46\n",
       "2003-01     46\n",
       "1966-01     44\n",
       "2004-01     41\n",
       "2005-01     38\n",
       "2006-01     32\n",
       "1967-01     31\n",
       "1968-01     29\n",
       "1965-01     29\n",
       "2007-01     14\n",
       "1964-01      9\n",
       "Name: count, dtype: int64"
      ]
     },
     "execution_count": 13,
     "metadata": {},
     "output_type": "execute_result"
    }
   ],
   "source": [
    "data1['DateOfBirth(age)'].value_counts()"
   ]
  },
  {
   "cell_type": "code",
   "execution_count": 14,
   "metadata": {},
   "outputs": [],
   "source": [
    "data1.to_csv(\"/home/theghost001/Pictures/practice_with_H/data/null_value_imputed_data1.csv\", index=False)"
   ]
  },
  {
   "cell_type": "code",
   "execution_count": null,
   "metadata": {},
   "outputs": [],
   "source": []
  }
 ],
 "metadata": {
  "kernelspec": {
   "display_name": "my_venv",
   "language": "python",
   "name": "python3"
  },
  "language_info": {
   "codemirror_mode": {
    "name": "ipython",
    "version": 3
   },
   "file_extension": ".py",
   "mimetype": "text/x-python",
   "name": "python",
   "nbconvert_exporter": "python",
   "pygments_lexer": "ipython3",
   "version": "3.12.3"
  }
 },
 "nbformat": 4,
 "nbformat_minor": 2
}
