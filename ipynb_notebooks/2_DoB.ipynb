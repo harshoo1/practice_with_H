{
 "cells": [
  {
   "cell_type": "code",
   "execution_count": 1,
   "metadata": {},
   "outputs": [],
   "source": [
    "#introducing a new \"DateOfBirth(age)\" column in  data/null_value_imputed_data1.csv that will calculate the DoB of the person based on age at the time of data collection \n",
    "#  \"DateOfBirth(age)\" = date_today - age\n",
    "#  \"DateOfBirth(age)\" will contain data in (YYYY-MM) format"
   ]
  },
  {
   "cell_type": "code",
   "execution_count": 3,
   "metadata": {},
   "outputs": [],
   "source": [
    "from datetime import datetime, timedelta\n",
    "import pandas as pd\n",
    "import numpy as np"
   ]
  },
  {
   "cell_type": "code",
   "execution_count": 6,
   "metadata": {},
   "outputs": [],
   "source": [
    "data1 = pd.read_csv(\"/home/theghost001/Pictures/practice_with_H/data/null_value_imputed_data1.csv\",encoding='ascii')"
   ]
  },
  {
   "cell_type": "code",
   "execution_count": 7,
   "metadata": {},
   "outputs": [],
   "source": [
    "data1.insert(1, \"DateOfBirth(age)\", None)"
   ]
  },
  {
   "cell_type": "code",
   "execution_count": 11,
   "metadata": {},
   "outputs": [],
   "source": [
    "for index, row in data1.iterrows():\n",
    "    data1.loc[index, 'DateOfBirth(age)'] = (datetime.today() - timedelta(days = 365.25*row['Age'])).strftime('%Y-%m')"
   ]
  },
  {
   "cell_type": "code",
   "execution_count": 12,
   "metadata": {},
   "outputs": [
    {
     "data": {
      "text/html": [
       "<div>\n",
       "<style scoped>\n",
       "    .dataframe tbody tr th:only-of-type {\n",
       "        vertical-align: middle;\n",
       "    }\n",
       "\n",
       "    .dataframe tbody tr th {\n",
       "        vertical-align: top;\n",
       "    }\n",
       "\n",
       "    .dataframe thead th {\n",
       "        text-align: right;\n",
       "    }\n",
       "</style>\n",
       "<table border=\"1\" class=\"dataframe\">\n",
       "  <thead>\n",
       "    <tr style=\"text-align: right;\">\n",
       "      <th></th>\n",
       "      <th>CustomerID</th>\n",
       "      <th>DateOfBirth(age)</th>\n",
       "      <th>ProdTaken</th>\n",
       "      <th>Age</th>\n",
       "      <th>TypeofContact</th>\n",
       "      <th>CityTier</th>\n",
       "      <th>DurationOfPitch</th>\n",
       "      <th>Occupation</th>\n",
       "      <th>Gender</th>\n",
       "      <th>Totalvisiting</th>\n",
       "    </tr>\n",
       "  </thead>\n",
       "  <tbody>\n",
       "    <tr>\n",
       "      <th>0</th>\n",
       "      <td>200000</td>\n",
       "      <td>1984-01</td>\n",
       "      <td>1</td>\n",
       "      <td>41.0</td>\n",
       "      <td>Self Enquiry</td>\n",
       "      <td>3</td>\n",
       "      <td>6.0</td>\n",
       "      <td>Salaried</td>\n",
       "      <td>Female</td>\n",
       "      <td>3.0</td>\n",
       "    </tr>\n",
       "    <tr>\n",
       "      <th>1</th>\n",
       "      <td>200001</td>\n",
       "      <td>1976-01</td>\n",
       "      <td>0</td>\n",
       "      <td>49.0</td>\n",
       "      <td>Company Invited</td>\n",
       "      <td>1</td>\n",
       "      <td>14.0</td>\n",
       "      <td>Salaried</td>\n",
       "      <td>Male</td>\n",
       "      <td>5.0</td>\n",
       "    </tr>\n",
       "    <tr>\n",
       "      <th>2</th>\n",
       "      <td>200002</td>\n",
       "      <td>1988-01</td>\n",
       "      <td>1</td>\n",
       "      <td>37.0</td>\n",
       "      <td>Self Enquiry</td>\n",
       "      <td>1</td>\n",
       "      <td>8.0</td>\n",
       "      <td>Free Lancer</td>\n",
       "      <td>Male</td>\n",
       "      <td>3.0</td>\n",
       "    </tr>\n",
       "    <tr>\n",
       "      <th>3</th>\n",
       "      <td>200003</td>\n",
       "      <td>1992-01</td>\n",
       "      <td>0</td>\n",
       "      <td>33.0</td>\n",
       "      <td>Company Invited</td>\n",
       "      <td>1</td>\n",
       "      <td>9.0</td>\n",
       "      <td>Salaried</td>\n",
       "      <td>Female</td>\n",
       "      <td>3.0</td>\n",
       "    </tr>\n",
       "    <tr>\n",
       "      <th>4</th>\n",
       "      <td>200004</td>\n",
       "      <td>1989-01</td>\n",
       "      <td>0</td>\n",
       "      <td>36.0</td>\n",
       "      <td>Self Enquiry</td>\n",
       "      <td>1</td>\n",
       "      <td>8.0</td>\n",
       "      <td>Small Business</td>\n",
       "      <td>Male</td>\n",
       "      <td>2.0</td>\n",
       "    </tr>\n",
       "  </tbody>\n",
       "</table>\n",
       "</div>"
      ],
      "text/plain": [
       "   CustomerID DateOfBirth(age)  ProdTaken   Age    TypeofContact  CityTier  \\\n",
       "0      200000          1984-01          1  41.0     Self Enquiry         3   \n",
       "1      200001          1976-01          0  49.0  Company Invited         1   \n",
       "2      200002          1988-01          1  37.0     Self Enquiry         1   \n",
       "3      200003          1992-01          0  33.0  Company Invited         1   \n",
       "4      200004          1989-01          0  36.0     Self Enquiry         1   \n",
       "\n",
       "   DurationOfPitch      Occupation  Gender  Totalvisiting  \n",
       "0              6.0        Salaried  Female            3.0  \n",
       "1             14.0        Salaried    Male            5.0  \n",
       "2              8.0     Free Lancer    Male            3.0  \n",
       "3              9.0        Salaried  Female            3.0  \n",
       "4              8.0  Small Business    Male            2.0  "
      ]
     },
     "execution_count": 12,
     "metadata": {},
     "output_type": "execute_result"
    }
   ],
   "source": [
    "data1.head()"
   ]
  },
  {
   "cell_type": "code",
   "execution_count": 13,
   "metadata": {},
   "outputs": [
    {
     "data": {
      "text/plain": [
       "DateOfBirth(age)\n",
       "1989-01    457\n",
       "1990-01    237\n",
       "1991-01    211\n",
       "1994-01    203\n",
       "1995-01    199\n",
       "1993-01    197\n",
       "1992-01    189\n",
       "1988-01    185\n",
       "1996-01    178\n",
       "1987-01    176\n",
       "1984-01    155\n",
       "1986-01    150\n",
       "1997-01    147\n",
       "1985-01    146\n",
       "1983-01    142\n",
       "1998-01    138\n",
       "1982-01    130\n",
       "1979-01    121\n",
       "1980-01    116\n",
       "1999-01    106\n",
       "1981-01    105\n",
       "1974-01     90\n",
       "1978-01     88\n",
       "1975-01     86\n",
       "2000-01     74\n",
       "1973-01     68\n",
       "1972-01     66\n",
       "1976-01     65\n",
       "1977-01     65\n",
       "1970-01     64\n",
       "1971-01     61\n",
       "1969-01     58\n",
       "2001-01     56\n",
       "2002-01     46\n",
       "2003-01     46\n",
       "1966-01     44\n",
       "2004-01     41\n",
       "2005-01     38\n",
       "2006-01     32\n",
       "1967-01     31\n",
       "1968-01     29\n",
       "1965-01     29\n",
       "2007-01     14\n",
       "1964-01      9\n",
       "Name: count, dtype: int64"
      ]
     },
     "execution_count": 13,
     "metadata": {},
     "output_type": "execute_result"
    }
   ],
   "source": [
    "data1['DateOfBirth(age)'].value_counts()"
   ]
  },
  {
   "cell_type": "code",
   "execution_count": 14,
   "metadata": {},
   "outputs": [],
   "source": [
    "data1.to_csv(\"/home/theghost001/Pictures/practice_with_H/data/null_value_imputed_data1.csv\", index=False)"
   ]
  },
  {
   "cell_type": "code",
   "execution_count": 15,
   "metadata": {},
   "outputs": [
    {
     "data": {
      "text/plain": [
       "Index(['CustomerID', 'DateOfBirth(age)', 'ProdTaken', 'Age', 'TypeofContact',\n",
       "       'CityTier', 'DurationOfPitch', 'Occupation', 'Gender', 'Totalvisiting'],\n",
       "      dtype='object')"
      ]
     },
     "execution_count": 15,
     "metadata": {},
     "output_type": "execute_result"
    }
   ],
   "source": [
    "data1.columns"
   ]
  },
  {
   "cell_type": "code",
   "execution_count": 16,
   "metadata": {},
   "outputs": [],
   "source": [
    "data2 = pd.read_csv(\"/home/theghost001/Pictures/practice_with_H/data/null_value_imputed_data2.csv\",encoding='ascii')"
   ]
  },
  {
   "cell_type": "code",
   "execution_count": 17,
   "metadata": {},
   "outputs": [
    {
     "data": {
      "text/plain": [
       "Index(['CustomerID', 'NumberOfFollowups', 'ProductPitched',\n",
       "       'PreferredPropertyStar', 'MaritalStatus', 'NumberOfTrips', 'Passport',\n",
       "       'PitchSatisfactionScore', 'OwnCar', 'Designation', 'MonthlyIncome'],\n",
       "      dtype='object')"
      ]
     },
     "execution_count": 17,
     "metadata": {},
     "output_type": "execute_result"
    }
   ],
   "source": [
    "data2.columns"
   ]
  },
  {
   "cell_type": "code",
   "execution_count": 18,
   "metadata": {},
   "outputs": [
    {
     "name": "stdout",
     "output_type": "stream",
     "text": [
      "2025-01-17 23:14:38.139344\n",
      "time betwen dates is 2190 days, 0:00:00\n",
      "days between dates is 2190\n"
     ]
    }
   ],
   "source": [
    "from datetime import datetime,timedelta\n",
    "now = datetime.now()\n",
    "print(now)\n",
    "startDate = datetime(2010,1,1)\n",
    "endDate = datetime(2015,12,31)\n",
    "timeBetweenDates = endDate - startDate\n",
    "print('time betwen dates is {}'.format(timeBetweenDates))\n",
    "daysBetweenDates = timeBetweenDates.days\n",
    "print('days between dates is {}'.format(daysBetweenDates))"
   ]
  },
  {
   "cell_type": "code",
   "execution_count": 20,
   "metadata": {},
   "outputs": [],
   "source": [
    "for index, row in data1.iterrows():\n",
    "    randomNumberOfDays = int(np.random.rand() * daysBetweenDates)\n",
    "    randomDate = startDate + timedelta(days=randomNumberOfDays)\n",
    "    data1.loc[index, 'DateofBirth'] = randomDate"
   ]
  },
  {
   "cell_type": "code",
   "execution_count": 21,
   "metadata": {},
   "outputs": [
    {
     "data": {
      "text/plain": [
       "Index(['CustomerID', 'DateOfBirth(age)', 'ProdTaken', 'Age', 'TypeofContact',\n",
       "       'CityTier', 'DurationOfPitch', 'Occupation', 'Gender', 'Totalvisiting',\n",
       "       'DateofBirth'],\n",
       "      dtype='object')"
      ]
     },
     "execution_count": 21,
     "metadata": {},
     "output_type": "execute_result"
    }
   ],
   "source": [
    "data1.columns"
   ]
  },
  {
   "cell_type": "code",
   "execution_count": 25,
   "metadata": {},
   "outputs": [
    {
     "name": "stdout",
     "output_type": "stream",
     "text": [
      "<class 'pandas.core.series.Series'>\n",
      "RangeIndex: 4888 entries, 0 to 4887\n",
      "Series name: DateofBirth\n",
      "Non-Null Count  Dtype         \n",
      "--------------  -----         \n",
      "4888 non-null   datetime64[us]\n",
      "dtypes: datetime64[us](1)\n",
      "memory usage: 38.3 KB\n"
     ]
    }
   ],
   "source": [
    "data1['DateofBirth'].info()"
   ]
  },
  {
   "cell_type": "code",
   "execution_count": 26,
   "metadata": {},
   "outputs": [],
   "source": [
    "#updating data!\n",
    "data1.to_csv(\"/home/theghost001/Pictures/practice_with_H/data/null_value_imputed_data1.csv\", index=False)"
   ]
  },
  {
   "cell_type": "code",
   "execution_count": 27,
   "metadata": {},
   "outputs": [
    {
     "data": {
      "text/html": [
       "<div>\n",
       "<style scoped>\n",
       "    .dataframe tbody tr th:only-of-type {\n",
       "        vertical-align: middle;\n",
       "    }\n",
       "\n",
       "    .dataframe tbody tr th {\n",
       "        vertical-align: top;\n",
       "    }\n",
       "\n",
       "    .dataframe thead th {\n",
       "        text-align: right;\n",
       "    }\n",
       "</style>\n",
       "<table border=\"1\" class=\"dataframe\">\n",
       "  <thead>\n",
       "    <tr style=\"text-align: right;\">\n",
       "      <th></th>\n",
       "      <th>CustomerID</th>\n",
       "      <th>DateOfBirth(age)</th>\n",
       "      <th>ProdTaken</th>\n",
       "      <th>Age</th>\n",
       "      <th>TypeofContact</th>\n",
       "      <th>CityTier</th>\n",
       "      <th>DurationOfPitch</th>\n",
       "      <th>Occupation</th>\n",
       "      <th>Gender</th>\n",
       "      <th>Totalvisiting</th>\n",
       "      <th>DateofBirth</th>\n",
       "    </tr>\n",
       "  </thead>\n",
       "  <tbody>\n",
       "    <tr>\n",
       "      <th>0</th>\n",
       "      <td>200000</td>\n",
       "      <td>1984-01</td>\n",
       "      <td>1</td>\n",
       "      <td>41.0</td>\n",
       "      <td>Self Enquiry</td>\n",
       "      <td>3</td>\n",
       "      <td>6.0</td>\n",
       "      <td>Salaried</td>\n",
       "      <td>Female</td>\n",
       "      <td>3.0</td>\n",
       "      <td>2015-04-28</td>\n",
       "    </tr>\n",
       "    <tr>\n",
       "      <th>1</th>\n",
       "      <td>200001</td>\n",
       "      <td>1976-01</td>\n",
       "      <td>0</td>\n",
       "      <td>49.0</td>\n",
       "      <td>Company Invited</td>\n",
       "      <td>1</td>\n",
       "      <td>14.0</td>\n",
       "      <td>Salaried</td>\n",
       "      <td>Male</td>\n",
       "      <td>5.0</td>\n",
       "      <td>2010-02-19</td>\n",
       "    </tr>\n",
       "    <tr>\n",
       "      <th>2</th>\n",
       "      <td>200002</td>\n",
       "      <td>1988-01</td>\n",
       "      <td>1</td>\n",
       "      <td>37.0</td>\n",
       "      <td>Self Enquiry</td>\n",
       "      <td>1</td>\n",
       "      <td>8.0</td>\n",
       "      <td>Free Lancer</td>\n",
       "      <td>Male</td>\n",
       "      <td>3.0</td>\n",
       "      <td>2013-09-11</td>\n",
       "    </tr>\n",
       "    <tr>\n",
       "      <th>3</th>\n",
       "      <td>200003</td>\n",
       "      <td>1992-01</td>\n",
       "      <td>0</td>\n",
       "      <td>33.0</td>\n",
       "      <td>Company Invited</td>\n",
       "      <td>1</td>\n",
       "      <td>9.0</td>\n",
       "      <td>Salaried</td>\n",
       "      <td>Female</td>\n",
       "      <td>3.0</td>\n",
       "      <td>2011-11-12</td>\n",
       "    </tr>\n",
       "    <tr>\n",
       "      <th>4</th>\n",
       "      <td>200004</td>\n",
       "      <td>1989-01</td>\n",
       "      <td>0</td>\n",
       "      <td>36.0</td>\n",
       "      <td>Self Enquiry</td>\n",
       "      <td>1</td>\n",
       "      <td>8.0</td>\n",
       "      <td>Small Business</td>\n",
       "      <td>Male</td>\n",
       "      <td>2.0</td>\n",
       "      <td>2014-01-19</td>\n",
       "    </tr>\n",
       "  </tbody>\n",
       "</table>\n",
       "</div>"
      ],
      "text/plain": [
       "   CustomerID DateOfBirth(age)  ProdTaken   Age    TypeofContact  CityTier  \\\n",
       "0      200000          1984-01          1  41.0     Self Enquiry         3   \n",
       "1      200001          1976-01          0  49.0  Company Invited         1   \n",
       "2      200002          1988-01          1  37.0     Self Enquiry         1   \n",
       "3      200003          1992-01          0  33.0  Company Invited         1   \n",
       "4      200004          1989-01          0  36.0     Self Enquiry         1   \n",
       "\n",
       "   DurationOfPitch      Occupation  Gender  Totalvisiting DateofBirth  \n",
       "0              6.0        Salaried  Female            3.0  2015-04-28  \n",
       "1             14.0        Salaried    Male            5.0  2010-02-19  \n",
       "2              8.0     Free Lancer    Male            3.0  2013-09-11  \n",
       "3              9.0        Salaried  Female            3.0  2011-11-12  \n",
       "4              8.0  Small Business    Male            2.0  2014-01-19  "
      ]
     },
     "execution_count": 27,
     "metadata": {},
     "output_type": "execute_result"
    }
   ],
   "source": [
    "data1.head()"
   ]
  },
  {
   "cell_type": "code",
   "execution_count": null,
   "metadata": {},
   "outputs": [],
   "source": []
  },
  {
   "cell_type": "markdown",
   "metadata": {},
   "source": [
    "## inserting \"Year\",\"Month\",\"Date\" column in Data1 using \"DateOfBirth\" column in Data1"
   ]
  },
  {
   "cell_type": "code",
   "execution_count": 5,
   "metadata": {},
   "outputs": [
    {
     "data": {
      "text/html": [
       "<div>\n",
       "<style scoped>\n",
       "    .dataframe tbody tr th:only-of-type {\n",
       "        vertical-align: middle;\n",
       "    }\n",
       "\n",
       "    .dataframe tbody tr th {\n",
       "        vertical-align: top;\n",
       "    }\n",
       "\n",
       "    .dataframe thead th {\n",
       "        text-align: right;\n",
       "    }\n",
       "</style>\n",
       "<table border=\"1\" class=\"dataframe\">\n",
       "  <thead>\n",
       "    <tr style=\"text-align: right;\">\n",
       "      <th></th>\n",
       "      <th>CustomerID</th>\n",
       "      <th>DateOfBirth(age)</th>\n",
       "      <th>ProdTaken</th>\n",
       "      <th>Age</th>\n",
       "      <th>TypeofContact</th>\n",
       "      <th>CityTier</th>\n",
       "      <th>DurationOfPitch</th>\n",
       "      <th>Occupation</th>\n",
       "      <th>Gender</th>\n",
       "      <th>Totalvisiting</th>\n",
       "      <th>DateofBirth</th>\n",
       "    </tr>\n",
       "  </thead>\n",
       "  <tbody>\n",
       "    <tr>\n",
       "      <th>0</th>\n",
       "      <td>200000</td>\n",
       "      <td>1984-01</td>\n",
       "      <td>1</td>\n",
       "      <td>41.0</td>\n",
       "      <td>Self Enquiry</td>\n",
       "      <td>3</td>\n",
       "      <td>6.0</td>\n",
       "      <td>Salaried</td>\n",
       "      <td>Female</td>\n",
       "      <td>3.0</td>\n",
       "      <td>2015-04-28</td>\n",
       "    </tr>\n",
       "    <tr>\n",
       "      <th>1</th>\n",
       "      <td>200001</td>\n",
       "      <td>1976-01</td>\n",
       "      <td>0</td>\n",
       "      <td>49.0</td>\n",
       "      <td>Company Invited</td>\n",
       "      <td>1</td>\n",
       "      <td>14.0</td>\n",
       "      <td>Salaried</td>\n",
       "      <td>Male</td>\n",
       "      <td>5.0</td>\n",
       "      <td>2010-02-19</td>\n",
       "    </tr>\n",
       "    <tr>\n",
       "      <th>2</th>\n",
       "      <td>200002</td>\n",
       "      <td>1988-01</td>\n",
       "      <td>1</td>\n",
       "      <td>37.0</td>\n",
       "      <td>Self Enquiry</td>\n",
       "      <td>1</td>\n",
       "      <td>8.0</td>\n",
       "      <td>Free Lancer</td>\n",
       "      <td>Male</td>\n",
       "      <td>3.0</td>\n",
       "      <td>2013-09-11</td>\n",
       "    </tr>\n",
       "    <tr>\n",
       "      <th>3</th>\n",
       "      <td>200003</td>\n",
       "      <td>1992-01</td>\n",
       "      <td>0</td>\n",
       "      <td>33.0</td>\n",
       "      <td>Company Invited</td>\n",
       "      <td>1</td>\n",
       "      <td>9.0</td>\n",
       "      <td>Salaried</td>\n",
       "      <td>Female</td>\n",
       "      <td>3.0</td>\n",
       "      <td>2011-11-12</td>\n",
       "    </tr>\n",
       "    <tr>\n",
       "      <th>4</th>\n",
       "      <td>200004</td>\n",
       "      <td>1989-01</td>\n",
       "      <td>0</td>\n",
       "      <td>36.0</td>\n",
       "      <td>Self Enquiry</td>\n",
       "      <td>1</td>\n",
       "      <td>8.0</td>\n",
       "      <td>Small Business</td>\n",
       "      <td>Male</td>\n",
       "      <td>2.0</td>\n",
       "      <td>2014-01-19</td>\n",
       "    </tr>\n",
       "  </tbody>\n",
       "</table>\n",
       "</div>"
      ],
      "text/plain": [
       "   CustomerID DateOfBirth(age)  ProdTaken   Age    TypeofContact  CityTier  \\\n",
       "0      200000          1984-01          1  41.0     Self Enquiry         3   \n",
       "1      200001          1976-01          0  49.0  Company Invited         1   \n",
       "2      200002          1988-01          1  37.0     Self Enquiry         1   \n",
       "3      200003          1992-01          0  33.0  Company Invited         1   \n",
       "4      200004          1989-01          0  36.0     Self Enquiry         1   \n",
       "\n",
       "   DurationOfPitch      Occupation  Gender  Totalvisiting DateofBirth  \n",
       "0              6.0        Salaried  Female            3.0  2015-04-28  \n",
       "1             14.0        Salaried    Male            5.0  2010-02-19  \n",
       "2              8.0     Free Lancer    Male            3.0  2013-09-11  \n",
       "3              9.0        Salaried  Female            3.0  2011-11-12  \n",
       "4              8.0  Small Business    Male            2.0  2014-01-19  "
      ]
     },
     "execution_count": 5,
     "metadata": {},
     "output_type": "execute_result"
    }
   ],
   "source": [
    "data1.head()"
   ]
  },
  {
   "cell_type": "code",
   "execution_count": 4,
   "metadata": {},
   "outputs": [],
   "source": [
    "data1 = pd.read_csv(\"/home/theghost001/Pictures/practice_with_H/data/null_value_imputed_data1.csv\",encoding='ascii')"
   ]
  },
  {
   "cell_type": "code",
   "execution_count": 7,
   "metadata": {},
   "outputs": [
    {
     "data": {
      "text/plain": [
       "0       2015-04-28\n",
       "1       2010-02-19\n",
       "2       2013-09-11\n",
       "3       2011-11-12\n",
       "4       2014-01-19\n",
       "           ...    \n",
       "4883    2013-08-11\n",
       "4884    2011-12-26\n",
       "4885    2014-01-14\n",
       "4886    2012-08-30\n",
       "4887    2010-09-06\n",
       "Name: DateofBirth, Length: 4888, dtype: object"
      ]
     },
     "execution_count": 7,
     "metadata": {},
     "output_type": "execute_result"
    }
   ],
   "source": [
    "data1['DateofBirth']"
   ]
  },
  {
   "cell_type": "code",
   "execution_count": 8,
   "metadata": {},
   "outputs": [],
   "source": [
    "data1['DateofBirth'] = pd.to_datetime(data1['DateofBirth'])\n"
   ]
  },
  {
   "cell_type": "code",
   "execution_count": 11,
   "metadata": {},
   "outputs": [],
   "source": [
    "data1['Date(birth)'] = data1['DateofBirth'].dt.day\n",
    "data1['Month(birth)'] = data1['DateofBirth'].dt.month\n",
    "data1['Year(birth)'] = data1['DateofBirth'].dt.year\n"
   ]
  },
  {
   "cell_type": "code",
   "execution_count": 12,
   "metadata": {},
   "outputs": [
    {
     "data": {
      "text/html": [
       "<div>\n",
       "<style scoped>\n",
       "    .dataframe tbody tr th:only-of-type {\n",
       "        vertical-align: middle;\n",
       "    }\n",
       "\n",
       "    .dataframe tbody tr th {\n",
       "        vertical-align: top;\n",
       "    }\n",
       "\n",
       "    .dataframe thead th {\n",
       "        text-align: right;\n",
       "    }\n",
       "</style>\n",
       "<table border=\"1\" class=\"dataframe\">\n",
       "  <thead>\n",
       "    <tr style=\"text-align: right;\">\n",
       "      <th></th>\n",
       "      <th>CustomerID</th>\n",
       "      <th>DateOfBirth(age)</th>\n",
       "      <th>ProdTaken</th>\n",
       "      <th>Age</th>\n",
       "      <th>TypeofContact</th>\n",
       "      <th>CityTier</th>\n",
       "      <th>DurationOfPitch</th>\n",
       "      <th>Occupation</th>\n",
       "      <th>Gender</th>\n",
       "      <th>Totalvisiting</th>\n",
       "      <th>DateofBirth</th>\n",
       "      <th>Date(birth)</th>\n",
       "      <th>Month(birth)</th>\n",
       "      <th>Year(birth)</th>\n",
       "    </tr>\n",
       "  </thead>\n",
       "  <tbody>\n",
       "    <tr>\n",
       "      <th>0</th>\n",
       "      <td>200000</td>\n",
       "      <td>1984-01</td>\n",
       "      <td>1</td>\n",
       "      <td>41.0</td>\n",
       "      <td>Self Enquiry</td>\n",
       "      <td>3</td>\n",
       "      <td>6.0</td>\n",
       "      <td>Salaried</td>\n",
       "      <td>Female</td>\n",
       "      <td>3.0</td>\n",
       "      <td>2015-04-28</td>\n",
       "      <td>28</td>\n",
       "      <td>4</td>\n",
       "      <td>2015</td>\n",
       "    </tr>\n",
       "    <tr>\n",
       "      <th>1</th>\n",
       "      <td>200001</td>\n",
       "      <td>1976-01</td>\n",
       "      <td>0</td>\n",
       "      <td>49.0</td>\n",
       "      <td>Company Invited</td>\n",
       "      <td>1</td>\n",
       "      <td>14.0</td>\n",
       "      <td>Salaried</td>\n",
       "      <td>Male</td>\n",
       "      <td>5.0</td>\n",
       "      <td>2010-02-19</td>\n",
       "      <td>19</td>\n",
       "      <td>2</td>\n",
       "      <td>2010</td>\n",
       "    </tr>\n",
       "    <tr>\n",
       "      <th>2</th>\n",
       "      <td>200002</td>\n",
       "      <td>1988-01</td>\n",
       "      <td>1</td>\n",
       "      <td>37.0</td>\n",
       "      <td>Self Enquiry</td>\n",
       "      <td>1</td>\n",
       "      <td>8.0</td>\n",
       "      <td>Free Lancer</td>\n",
       "      <td>Male</td>\n",
       "      <td>3.0</td>\n",
       "      <td>2013-09-11</td>\n",
       "      <td>11</td>\n",
       "      <td>9</td>\n",
       "      <td>2013</td>\n",
       "    </tr>\n",
       "    <tr>\n",
       "      <th>3</th>\n",
       "      <td>200003</td>\n",
       "      <td>1992-01</td>\n",
       "      <td>0</td>\n",
       "      <td>33.0</td>\n",
       "      <td>Company Invited</td>\n",
       "      <td>1</td>\n",
       "      <td>9.0</td>\n",
       "      <td>Salaried</td>\n",
       "      <td>Female</td>\n",
       "      <td>3.0</td>\n",
       "      <td>2011-11-12</td>\n",
       "      <td>12</td>\n",
       "      <td>11</td>\n",
       "      <td>2011</td>\n",
       "    </tr>\n",
       "    <tr>\n",
       "      <th>4</th>\n",
       "      <td>200004</td>\n",
       "      <td>1989-01</td>\n",
       "      <td>0</td>\n",
       "      <td>36.0</td>\n",
       "      <td>Self Enquiry</td>\n",
       "      <td>1</td>\n",
       "      <td>8.0</td>\n",
       "      <td>Small Business</td>\n",
       "      <td>Male</td>\n",
       "      <td>2.0</td>\n",
       "      <td>2014-01-19</td>\n",
       "      <td>19</td>\n",
       "      <td>1</td>\n",
       "      <td>2014</td>\n",
       "    </tr>\n",
       "  </tbody>\n",
       "</table>\n",
       "</div>"
      ],
      "text/plain": [
       "   CustomerID DateOfBirth(age)  ProdTaken   Age    TypeofContact  CityTier  \\\n",
       "0      200000          1984-01          1  41.0     Self Enquiry         3   \n",
       "1      200001          1976-01          0  49.0  Company Invited         1   \n",
       "2      200002          1988-01          1  37.0     Self Enquiry         1   \n",
       "3      200003          1992-01          0  33.0  Company Invited         1   \n",
       "4      200004          1989-01          0  36.0     Self Enquiry         1   \n",
       "\n",
       "   DurationOfPitch      Occupation  Gender  Totalvisiting DateofBirth  \\\n",
       "0              6.0        Salaried  Female            3.0  2015-04-28   \n",
       "1             14.0        Salaried    Male            5.0  2010-02-19   \n",
       "2              8.0     Free Lancer    Male            3.0  2013-09-11   \n",
       "3              9.0        Salaried  Female            3.0  2011-11-12   \n",
       "4              8.0  Small Business    Male            2.0  2014-01-19   \n",
       "\n",
       "   Date(birth)  Month(birth)  Year(birth)  \n",
       "0           28             4         2015  \n",
       "1           19             2         2010  \n",
       "2           11             9         2013  \n",
       "3           12            11         2011  \n",
       "4           19             1         2014  "
      ]
     },
     "execution_count": 12,
     "metadata": {},
     "output_type": "execute_result"
    }
   ],
   "source": [
    "data1.head()"
   ]
  },
  {
   "cell_type": "markdown",
   "metadata": {},
   "source": [
    "## .Create a new column for \"Alias\" with the initials of each individual's \"Type of Contact.\""
   ]
  },
  {
   "cell_type": "markdown",
   "metadata": {},
   "source": []
  },
  {
   "cell_type": "code",
   "execution_count": 13,
   "metadata": {},
   "outputs": [
    {
     "data": {
      "text/plain": [
       "TypeofContact\n",
       "Self Enquiry       3469\n",
       "Company Invited    1419\n",
       "Name: count, dtype: int64"
      ]
     },
     "execution_count": 13,
     "metadata": {},
     "output_type": "execute_result"
    }
   ],
   "source": [
    "data1['TypeofContact'].value_counts()"
   ]
  },
  {
   "cell_type": "code",
   "execution_count": 14,
   "metadata": {},
   "outputs": [
    {
     "data": {
      "text/plain": [
       "array(['Self Enquiry', 'Company Invited'], dtype=object)"
      ]
     },
     "execution_count": 14,
     "metadata": {},
     "output_type": "execute_result"
    }
   ],
   "source": [
    "data1['TypeofContact'].unique() "
   ]
  },
  {
   "cell_type": "markdown",
   "metadata": {},
   "source": []
  },
  {
   "cell_type": "code",
   "execution_count": 18,
   "metadata": {},
   "outputs": [],
   "source": [
    "#data1['TypeofContact'] = data1['TypeofContact'].replace({'Self Enquiry': 'SE', 'Company Invited': 'CI'})\n",
    "alias_mapping = {\n",
    "    'Self Enquiry': 'SE',\n",
    "    'Company Invited': 'CI'\n",
    "}\n"
   ]
  },
  {
   "cell_type": "code",
   "execution_count": 19,
   "metadata": {},
   "outputs": [],
   "source": [
    "data1['TypeofContact(Allias)'] = data1['TypeofContact'].map(alias_mapping)\n"
   ]
  },
  {
   "cell_type": "code",
   "execution_count": 20,
   "metadata": {},
   "outputs": [
    {
     "data": {
      "text/html": [
       "<div>\n",
       "<style scoped>\n",
       "    .dataframe tbody tr th:only-of-type {\n",
       "        vertical-align: middle;\n",
       "    }\n",
       "\n",
       "    .dataframe tbody tr th {\n",
       "        vertical-align: top;\n",
       "    }\n",
       "\n",
       "    .dataframe thead th {\n",
       "        text-align: right;\n",
       "    }\n",
       "</style>\n",
       "<table border=\"1\" class=\"dataframe\">\n",
       "  <thead>\n",
       "    <tr style=\"text-align: right;\">\n",
       "      <th></th>\n",
       "      <th>CustomerID</th>\n",
       "      <th>DateOfBirth(age)</th>\n",
       "      <th>ProdTaken</th>\n",
       "      <th>Age</th>\n",
       "      <th>TypeofContact</th>\n",
       "      <th>CityTier</th>\n",
       "      <th>DurationOfPitch</th>\n",
       "      <th>Occupation</th>\n",
       "      <th>Gender</th>\n",
       "      <th>Totalvisiting</th>\n",
       "      <th>DateofBirth</th>\n",
       "      <th>Date(birth)</th>\n",
       "      <th>Month(birth)</th>\n",
       "      <th>Year(birth)</th>\n",
       "      <th>TypeofContact(Allias)</th>\n",
       "    </tr>\n",
       "  </thead>\n",
       "  <tbody>\n",
       "    <tr>\n",
       "      <th>0</th>\n",
       "      <td>200000</td>\n",
       "      <td>1984-01</td>\n",
       "      <td>1</td>\n",
       "      <td>41.0</td>\n",
       "      <td>Self Enquiry</td>\n",
       "      <td>3</td>\n",
       "      <td>6.0</td>\n",
       "      <td>Salaried</td>\n",
       "      <td>Female</td>\n",
       "      <td>3.0</td>\n",
       "      <td>2015-04-28</td>\n",
       "      <td>28</td>\n",
       "      <td>4</td>\n",
       "      <td>2015</td>\n",
       "      <td>SE</td>\n",
       "    </tr>\n",
       "    <tr>\n",
       "      <th>1</th>\n",
       "      <td>200001</td>\n",
       "      <td>1976-01</td>\n",
       "      <td>0</td>\n",
       "      <td>49.0</td>\n",
       "      <td>Company Invited</td>\n",
       "      <td>1</td>\n",
       "      <td>14.0</td>\n",
       "      <td>Salaried</td>\n",
       "      <td>Male</td>\n",
       "      <td>5.0</td>\n",
       "      <td>2010-02-19</td>\n",
       "      <td>19</td>\n",
       "      <td>2</td>\n",
       "      <td>2010</td>\n",
       "      <td>CI</td>\n",
       "    </tr>\n",
       "    <tr>\n",
       "      <th>2</th>\n",
       "      <td>200002</td>\n",
       "      <td>1988-01</td>\n",
       "      <td>1</td>\n",
       "      <td>37.0</td>\n",
       "      <td>Self Enquiry</td>\n",
       "      <td>1</td>\n",
       "      <td>8.0</td>\n",
       "      <td>Free Lancer</td>\n",
       "      <td>Male</td>\n",
       "      <td>3.0</td>\n",
       "      <td>2013-09-11</td>\n",
       "      <td>11</td>\n",
       "      <td>9</td>\n",
       "      <td>2013</td>\n",
       "      <td>SE</td>\n",
       "    </tr>\n",
       "    <tr>\n",
       "      <th>3</th>\n",
       "      <td>200003</td>\n",
       "      <td>1992-01</td>\n",
       "      <td>0</td>\n",
       "      <td>33.0</td>\n",
       "      <td>Company Invited</td>\n",
       "      <td>1</td>\n",
       "      <td>9.0</td>\n",
       "      <td>Salaried</td>\n",
       "      <td>Female</td>\n",
       "      <td>3.0</td>\n",
       "      <td>2011-11-12</td>\n",
       "      <td>12</td>\n",
       "      <td>11</td>\n",
       "      <td>2011</td>\n",
       "      <td>CI</td>\n",
       "    </tr>\n",
       "    <tr>\n",
       "      <th>4</th>\n",
       "      <td>200004</td>\n",
       "      <td>1989-01</td>\n",
       "      <td>0</td>\n",
       "      <td>36.0</td>\n",
       "      <td>Self Enquiry</td>\n",
       "      <td>1</td>\n",
       "      <td>8.0</td>\n",
       "      <td>Small Business</td>\n",
       "      <td>Male</td>\n",
       "      <td>2.0</td>\n",
       "      <td>2014-01-19</td>\n",
       "      <td>19</td>\n",
       "      <td>1</td>\n",
       "      <td>2014</td>\n",
       "      <td>SE</td>\n",
       "    </tr>\n",
       "  </tbody>\n",
       "</table>\n",
       "</div>"
      ],
      "text/plain": [
       "   CustomerID DateOfBirth(age)  ProdTaken   Age    TypeofContact  CityTier  \\\n",
       "0      200000          1984-01          1  41.0     Self Enquiry         3   \n",
       "1      200001          1976-01          0  49.0  Company Invited         1   \n",
       "2      200002          1988-01          1  37.0     Self Enquiry         1   \n",
       "3      200003          1992-01          0  33.0  Company Invited         1   \n",
       "4      200004          1989-01          0  36.0     Self Enquiry         1   \n",
       "\n",
       "   DurationOfPitch      Occupation  Gender  Totalvisiting DateofBirth  \\\n",
       "0              6.0        Salaried  Female            3.0  2015-04-28   \n",
       "1             14.0        Salaried    Male            5.0  2010-02-19   \n",
       "2              8.0     Free Lancer    Male            3.0  2013-09-11   \n",
       "3              9.0        Salaried  Female            3.0  2011-11-12   \n",
       "4              8.0  Small Business    Male            2.0  2014-01-19   \n",
       "\n",
       "   Date(birth)  Month(birth)  Year(birth) TypeofContact(Allias)  \n",
       "0           28             4         2015                    SE  \n",
       "1           19             2         2010                    CI  \n",
       "2           11             9         2013                    SE  \n",
       "3           12            11         2011                    CI  \n",
       "4           19             1         2014                    SE  "
      ]
     },
     "execution_count": 20,
     "metadata": {},
     "output_type": "execute_result"
    }
   ],
   "source": [
    "data1.head()"
   ]
  },
  {
   "cell_type": "code",
   "execution_count": 23,
   "metadata": {},
   "outputs": [
    {
     "data": {
      "text/plain": [
       "np.int64(0)"
      ]
     },
     "execution_count": 23,
     "metadata": {},
     "output_type": "execute_result"
    }
   ],
   "source": [
    "data1['TypeofContact(Allias)'].isnull().sum()"
   ]
  },
  {
   "cell_type": "code",
   "execution_count": 24,
   "metadata": {},
   "outputs": [],
   "source": [
    "data1.to_csv(\"/home/theghost001/Pictures/practice_with_H/data/null_value_imputed_data1.csv\", index=False)"
   ]
  },
  {
   "cell_type": "code",
   "execution_count": 25,
   "metadata": {},
   "outputs": [
    {
     "data": {
      "text/html": [
       "<div>\n",
       "<style scoped>\n",
       "    .dataframe tbody tr th:only-of-type {\n",
       "        vertical-align: middle;\n",
       "    }\n",
       "\n",
       "    .dataframe tbody tr th {\n",
       "        vertical-align: top;\n",
       "    }\n",
       "\n",
       "    .dataframe thead th {\n",
       "        text-align: right;\n",
       "    }\n",
       "</style>\n",
       "<table border=\"1\" class=\"dataframe\">\n",
       "  <thead>\n",
       "    <tr style=\"text-align: right;\">\n",
       "      <th></th>\n",
       "      <th>CustomerID</th>\n",
       "      <th>DateOfBirth(age)</th>\n",
       "      <th>ProdTaken</th>\n",
       "      <th>Age</th>\n",
       "      <th>TypeofContact</th>\n",
       "      <th>CityTier</th>\n",
       "      <th>DurationOfPitch</th>\n",
       "      <th>Occupation</th>\n",
       "      <th>Gender</th>\n",
       "      <th>Totalvisiting</th>\n",
       "      <th>DateofBirth</th>\n",
       "      <th>Date(birth)</th>\n",
       "      <th>Month(birth)</th>\n",
       "      <th>Year(birth)</th>\n",
       "      <th>TypeofContact(Allias)</th>\n",
       "    </tr>\n",
       "  </thead>\n",
       "  <tbody>\n",
       "    <tr>\n",
       "      <th>0</th>\n",
       "      <td>200000</td>\n",
       "      <td>1984-01</td>\n",
       "      <td>1</td>\n",
       "      <td>41.0</td>\n",
       "      <td>Self Enquiry</td>\n",
       "      <td>3</td>\n",
       "      <td>6.0</td>\n",
       "      <td>Salaried</td>\n",
       "      <td>Female</td>\n",
       "      <td>3.0</td>\n",
       "      <td>2015-04-28</td>\n",
       "      <td>28</td>\n",
       "      <td>4</td>\n",
       "      <td>2015</td>\n",
       "      <td>SE</td>\n",
       "    </tr>\n",
       "    <tr>\n",
       "      <th>1</th>\n",
       "      <td>200001</td>\n",
       "      <td>1976-01</td>\n",
       "      <td>0</td>\n",
       "      <td>49.0</td>\n",
       "      <td>Company Invited</td>\n",
       "      <td>1</td>\n",
       "      <td>14.0</td>\n",
       "      <td>Salaried</td>\n",
       "      <td>Male</td>\n",
       "      <td>5.0</td>\n",
       "      <td>2010-02-19</td>\n",
       "      <td>19</td>\n",
       "      <td>2</td>\n",
       "      <td>2010</td>\n",
       "      <td>CI</td>\n",
       "    </tr>\n",
       "    <tr>\n",
       "      <th>2</th>\n",
       "      <td>200002</td>\n",
       "      <td>1988-01</td>\n",
       "      <td>1</td>\n",
       "      <td>37.0</td>\n",
       "      <td>Self Enquiry</td>\n",
       "      <td>1</td>\n",
       "      <td>8.0</td>\n",
       "      <td>Free Lancer</td>\n",
       "      <td>Male</td>\n",
       "      <td>3.0</td>\n",
       "      <td>2013-09-11</td>\n",
       "      <td>11</td>\n",
       "      <td>9</td>\n",
       "      <td>2013</td>\n",
       "      <td>SE</td>\n",
       "    </tr>\n",
       "    <tr>\n",
       "      <th>3</th>\n",
       "      <td>200003</td>\n",
       "      <td>1992-01</td>\n",
       "      <td>0</td>\n",
       "      <td>33.0</td>\n",
       "      <td>Company Invited</td>\n",
       "      <td>1</td>\n",
       "      <td>9.0</td>\n",
       "      <td>Salaried</td>\n",
       "      <td>Female</td>\n",
       "      <td>3.0</td>\n",
       "      <td>2011-11-12</td>\n",
       "      <td>12</td>\n",
       "      <td>11</td>\n",
       "      <td>2011</td>\n",
       "      <td>CI</td>\n",
       "    </tr>\n",
       "    <tr>\n",
       "      <th>4</th>\n",
       "      <td>200004</td>\n",
       "      <td>1989-01</td>\n",
       "      <td>0</td>\n",
       "      <td>36.0</td>\n",
       "      <td>Self Enquiry</td>\n",
       "      <td>1</td>\n",
       "      <td>8.0</td>\n",
       "      <td>Small Business</td>\n",
       "      <td>Male</td>\n",
       "      <td>2.0</td>\n",
       "      <td>2014-01-19</td>\n",
       "      <td>19</td>\n",
       "      <td>1</td>\n",
       "      <td>2014</td>\n",
       "      <td>SE</td>\n",
       "    </tr>\n",
       "  </tbody>\n",
       "</table>\n",
       "</div>"
      ],
      "text/plain": [
       "   CustomerID DateOfBirth(age)  ProdTaken   Age    TypeofContact  CityTier  \\\n",
       "0      200000          1984-01          1  41.0     Self Enquiry         3   \n",
       "1      200001          1976-01          0  49.0  Company Invited         1   \n",
       "2      200002          1988-01          1  37.0     Self Enquiry         1   \n",
       "3      200003          1992-01          0  33.0  Company Invited         1   \n",
       "4      200004          1989-01          0  36.0     Self Enquiry         1   \n",
       "\n",
       "   DurationOfPitch      Occupation  Gender  Totalvisiting DateofBirth  \\\n",
       "0              6.0        Salaried  Female            3.0  2015-04-28   \n",
       "1             14.0        Salaried    Male            5.0  2010-02-19   \n",
       "2              8.0     Free Lancer    Male            3.0  2013-09-11   \n",
       "3              9.0        Salaried  Female            3.0  2011-11-12   \n",
       "4              8.0  Small Business    Male            2.0  2014-01-19   \n",
       "\n",
       "   Date(birth)  Month(birth)  Year(birth) TypeofContact(Allias)  \n",
       "0           28             4         2015                    SE  \n",
       "1           19             2         2010                    CI  \n",
       "2           11             9         2013                    SE  \n",
       "3           12            11         2011                    CI  \n",
       "4           19             1         2014                    SE  "
      ]
     },
     "execution_count": 25,
     "metadata": {},
     "output_type": "execute_result"
    }
   ],
   "source": [
    "data1.head()"
   ]
  },
  {
   "cell_type": "code",
   "execution_count": null,
   "metadata": {},
   "outputs": [],
   "source": []
  },
  {
   "cell_type": "code",
   "execution_count": null,
   "metadata": {},
   "outputs": [],
   "source": []
  }
 ],
 "metadata": {
  "kernelspec": {
   "display_name": "my_venv",
   "language": "python",
   "name": "python3"
  },
  "language_info": {
   "codemirror_mode": {
    "name": "ipython",
    "version": 3
   },
   "file_extension": ".py",
   "mimetype": "text/x-python",
   "name": "python",
   "nbconvert_exporter": "python",
   "pygments_lexer": "ipython3",
   "version": "3.12.3"
  }
 },
 "nbformat": 4,
 "nbformat_minor": 2
}
